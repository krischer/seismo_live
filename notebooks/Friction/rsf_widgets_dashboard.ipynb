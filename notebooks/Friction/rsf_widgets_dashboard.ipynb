{
 "cells": [
  {
   "cell_type": "code",
   "execution_count": 73,
   "metadata": {
    "collapsed": false,
    "extensions": {
     "jupyter_dashboards": {
      "version": 1,
      "views": {
       "grid_default": {
        "hidden": true
       },
       "report_default": {
        "hidden": false
       }
      }
     }
    },
    "urth": {
     "dashboard": {
      "hidden": true,
      "layout": {}
     }
    }
   },
   "outputs": [],
   "source": [
    "import matplotlib.pyplot as plt\n",
    "#from __future__ import print_function\n",
    "import ipywidgets as widgets\n",
    "from IPython.display import display, clear_output\n",
    "import numpy as np\n",
    "from rsfmodel import rsf, staterelations, plot\n",
    "\n",
    "%matplotlib notebook"
   ]
  },
  {
   "cell_type": "code",
   "execution_count": 74,
   "metadata": {
    "collapsed": false,
    "extensions": {
     "jupyter_dashboards": {
      "version": 1,
      "views": {
       "grid_default": {
        "hidden": true
       },
       "report_default": {
        "hidden": false
       }
      }
     }
    },
    "urth": {
     "dashboard": {
      "hidden": true,
      "layout": {}
     }
    }
   },
   "outputs": [],
   "source": [
    "def RunModel():\n",
    "    # Set model initial conditions\n",
    "    model.mu0 = 0.6 # Friction initial (at the reference velocity)\n",
    "    model.a = a_floatBox.value # Empirical coefficient for the direct effect\n",
    "    model.k = k_floatBox.value # Normalized System stiffness (friction/micron)\n",
    "\n",
    "    if sv1_dropdown.value == \"Aging Relation\":\n",
    "        state1 = staterelations.DieterichState()\n",
    "        state1.b = b1_floatBox.value  # Empirical coefficient for the evolution effect\n",
    "        state1.Dc = Dc1_floatBox.value  # Critical slip distance\n",
    "    \n",
    "    elif sv1_dropdown.value == \"Slowness Relation\":\n",
    "        state1 = staterelations.RuinaState()\n",
    "        state1.b = b1_floatBox.value  # Empirical coefficient for the evolution effect\n",
    "        state1.Dc = Dc1_floatBox.value  # Critical slip distance\n",
    "        \n",
    "    else:\n",
    "        # We shouldn't be here!\n",
    "        pass\n",
    "        \n",
    "    if sv2_dropdown.value == \"Aging Relation\":\n",
    "        state2 = staterelations.DieterichState()\n",
    "        state2.b = b1_floatBox.value  # Empirical coefficient for the evolution effect\n",
    "        state2.Dc = Dc1_floatBox.value  # Critical slip distance\n",
    "    \n",
    "    elif sv2_dropdown.value == \"Slowness Relation\":\n",
    "        state2 = staterelations.RuinaState()\n",
    "        state2.b = b1_floatBox.value  # Empirical coefficient for the evolution effect\n",
    "        state2.Dc = Dc1_floatBox.value  # Critical slip distance\n",
    "        \n",
    "    else:\n",
    "        # None\n",
    "        pass\n",
    "    \n",
    "    model.state_relations = [state1] # Which state relation we want to use\n",
    "    \n",
    "    if sv2_dropdown.value != \"None\":\n",
    "        model.state_relations.append(state2)\n",
    "\n",
    "    time, velocity = parse_sequence(step_sequence_string.value)\n",
    "\n",
    "    model.time = time\n",
    "    # Set the model load point velocity, must be same shape as model.model_time\n",
    "    model.loadpoint_velocity = velocity\n",
    "\n",
    "    model.v = velocity[0] # Initial slider velocity, generally is vlp(t=0)\n",
    "    model.vref = velocity[0] # Reference velocity, generally vlp(t=0)\n",
    "    \n",
    "    # Run the model!\n",
    "    model.solve()"
   ]
  },
  {
   "cell_type": "code",
   "execution_count": 75,
   "metadata": {
    "collapsed": true,
    "extensions": {
     "jupyter_dashboards": {
      "version": 1,
      "views": {
       "grid_default": {
        "hidden": true
       },
       "report_default": {
        "hidden": false
       }
      }
     }
    },
    "urth": {
     "dashboard": {
      "hidden": true,
      "layout": {}
     }
    }
   },
   "outputs": [],
   "source": [
    "def update_dispalcement_plot(model):\n",
    "    #clear_output(wait=True)\n",
    "    line_lp_mu.set_xdata(model.results.loadpoint_displacement)\n",
    "    line_lp_mu.set_ydata(model.results.friction)\n",
    "    \n",
    "    line_lp_vs.set_xdata(model.results.loadpoint_displacement)\n",
    "    line_lp_vs.set_ydata(model.results.slider_velocity)\n",
    "    \n",
    "    ax1.set_xlim(0, np.max(model.results.loadpoint_displacement))\n",
    "    \n",
    "    ax1.relim()\n",
    "    ax1.autoscale_view(False, False, True)\n",
    "    \n",
    "    ax1b.relim()\n",
    "    ax1b.autoscale_view(False, False, True)\n",
    "    fig_vars.canvas.draw()"
   ]
  },
  {
   "cell_type": "code",
   "execution_count": 76,
   "metadata": {
    "collapsed": true,
    "extensions": {
     "jupyter_dashboards": {
      "version": 1,
      "views": {
       "grid_default": {
        "hidden": true
       },
       "report_default": {
        "hidden": false
       }
      }
     }
    },
    "urth": {
     "dashboard": {
      "hidden": true,
      "layout": {}
     }
    }
   },
   "outputs": [],
   "source": [
    "def update_time_plot(model):\n",
    "    #clear_output(wait=True)\n",
    "\n",
    "    line_time_mu.set_xdata(model.results.time)\n",
    "    line_time_mu.set_ydata(model.results.friction)\n",
    "    \n",
    "    line_time_vs.set_xdata(model.results.time)\n",
    "    line_time_vs.set_ydata(model.results.slider_velocity)\n",
    "    \n",
    "    ax2.set_xlim(0, np.max(model.results.time))\n",
    "    \n",
    "    ax2.relim()\n",
    "    ax2.autoscale_view(False, False, True)\n",
    "    \n",
    "    ax2b.relim()\n",
    "    ax2b.autoscale_view(False, False, True)\n",
    "    fig_vars.canvas.draw()\n"
   ]
  },
  {
   "cell_type": "code",
   "execution_count": 77,
   "metadata": {
    "collapsed": false,
    "extensions": {
     "jupyter_dashboards": {
      "version": 1,
      "views": {
       "grid_default": {
        "hidden": true
       },
       "report_default": {
        "hidden": false
       }
      }
     }
    },
    "urth": {
     "dashboard": {
      "hidden": true,
      "layout": {}
     }
    }
   },
   "outputs": [],
   "source": [
    "def update_phase_plot(model):\n",
    "    ax3.cla()\n",
    "    phase_line, = ax3.plot([], [], color=tableau20[4], linewidth=2)\n",
    "\n",
    "    ax3.set_xlabel(r'ln$\\frac{V}{V_{ref}}$', fontsize=16, labelpad=20)\n",
    "    ax3.set_ylabel(r'$\\mu$', fontsize=16)\n",
    "    \n",
    "    v_ratio = np.log(model.results.slider_velocity/model.vref)\n",
    "    phase_line.set_xdata(v_ratio)\n",
    "    phase_line.set_ydata(model.results.friction)\n",
    "    \n",
    "    #xlims = ax2.get_xlims()#[np.min(v_ratio), np.max(v_ratio)]\n",
    "    #ylims = ax3.get_xlims()#[np.min(model.results.friction), np.max(model.results.friction)]\n",
    "    ax3.relim()\n",
    "    ax3.autoscale_view(False, True, True)\n",
    "    ylims = ax3.get_ylim()\n",
    "    xlims = ax3.get_xlim()\n",
    "    # Plot lines of constant a that are in the view\n",
    "    y_line = model.a * np.array(xlims)\n",
    "    for mu in np.arange(0, ylims[1]*2, 0.005):\n",
    "        y_line_plot = y_line + mu\n",
    "        if max(y_line_plot) > ylims[0]:\n",
    "            ax3.plot([xlims[0], xlims[1]], y_line_plot, color='k', linestyle='--')\n",
    "\n",
    "    # Plot a line of rate dependence \"Steady State Line\"\n",
    "    state_b_sum = 0\n",
    "    for state in model.state_relations:\n",
    "        state_b_sum += state.b\n",
    "        mu_rate_dependence = model.mu0 + (model.a - state_b_sum)*np.array(xlims)\n",
    "        ax3.plot(xlims, mu_rate_dependence, color='k', linestyle='--')\n",
    "\n",
    "    ax3.set_xlim(xlims)\n",
    "    ax3.set_ylim(ylims)\n",
    "    #ax3.relim()\n",
    "    #ax3.autoscale_view(False, True, True)\n",
    "    fig_phase.canvas.draw()"
   ]
  },
  {
   "cell_type": "code",
   "execution_count": 78,
   "metadata": {
    "collapsed": true,
    "extensions": {
     "jupyter_dashboards": {
      "version": 1,
      "views": {
       "grid_default": {
        "hidden": true
       },
       "report_default": {
        "hidden": false
       }
      }
     }
    },
    "urth": {
     "dashboard": {
      "hidden": true,
      "layout": {}
     }
    }
   },
   "outputs": [],
   "source": [
    "def stiffness_text_update(model):\n",
    "    kc = (model.state_relations[0].b - model.a)/model.state_relations[0].Dc\n",
    "    kc_label.value = \"k$_c$ [$\\mu$m$^{-1}$]: %f\" %kc\n",
    "    kappa_label.value = \"k/k$_c$: %f\" %(model.k/kc)"
   ]
  },
  {
   "cell_type": "code",
   "execution_count": 79,
   "metadata": {
    "collapsed": false,
    "extensions": {
     "jupyter_dashboards": {
      "version": 1,
      "views": {
       "grid_default": {
        "hidden": true
       },
       "report_default": {
        "hidden": false
       }
      }
     }
    },
    "urth": {
     "dashboard": {
      "hidden": true,
      "layout": {}
     }
    }
   },
   "outputs": [],
   "source": [
    "def parse_sequence(seqString):\n",
    "    steps = seqString.split(',')\n",
    "    if len(steps)%2 != 0:\n",
    "        # Odd number of steps is an error!\n",
    "        step_sequence_string.border_color = 'red'\n",
    "    else:\n",
    "        step_sequence_string.border_color = 'green'\n",
    "        steps = np.array(steps)\n",
    "        steps = steps.astype(int)\n",
    "        \n",
    "        steps = steps.reshape((len(steps)/2,2))\n",
    "    \n",
    "        dt = 0.01\n",
    "\n",
    "        if simType_buttons.value == 'Velocity-Displacement':\n",
    "            velocity = np.array([])\n",
    "            time = np.arange(0, np.sum(steps[:,1]/steps[:,0]), dt)\n",
    "            for step_velocity, step_displacement in steps:\n",
    "                step_time = step_displacement/step_velocity\n",
    "                velocity = np.hstack((velocity, np.ones(step_time/dt) * step_velocity))\n",
    "        \n",
    "        if simType_buttons.value == 'Velocity-Time':\n",
    "            velocity = np.array([])\n",
    "            time = np.arange(0, np.sum(steps[:,1]), dt)\n",
    "            for step_velocity, step_time in steps:\n",
    "                velocity = np.hstack((velocity, np.ones(step_time/dt) * step_velocity))\n",
    "        \n",
    "        return time, velocity    "
   ]
  },
  {
   "cell_type": "code",
   "execution_count": 80,
   "metadata": {
    "collapsed": false,
    "extensions": {
     "jupyter_dashboards": {
      "version": 1,
      "views": {
       "grid_default": {
        "hidden": true
       },
       "report_default": {
        "hidden": false
       }
      }
     }
    },
    "urth": {
     "dashboard": {
      "hidden": true,
      "layout": {}
     }
    }
   },
   "outputs": [],
   "source": [
    "def on_calculate_clicked(button):   \n",
    "    RunModel()\n",
    "    update_dispalcement_plot(model)\n",
    "    update_time_plot(model)\n",
    "    update_phase_plot(model)\n",
    "    stiffness_text_update(model)\n",
    "    clear_output(wait=True)\n"
   ]
  },
  {
   "cell_type": "code",
   "execution_count": 81,
   "metadata": {
    "collapsed": false,
    "extensions": {
     "jupyter_dashboards": {
      "version": 1,
      "views": {
       "grid_default": {
        "hidden": true
       },
       "report_default": {
        "hidden": false
       }
      }
     }
    },
    "urth": {
     "dashboard": {
      "hidden": true,
      "layout": {}
     }
    }
   },
   "outputs": [],
   "source": [
    "def on_reset(button):\n",
    "    a_floatBox.value = 0.005\n",
    "    b1_floatBox.value = 0.01\n",
    "    Dc1_floatBox.value = 10.\n",
    "    b2_floatBox.value = 0.01\n",
    "    Dc2_floatBox.value = 10.\n",
    "    k_floatBox.value = 1e-3\n",
    "    sv1_dropdown.value = \"Aging Relation\"\n",
    "    sv2_dropdown.value = \"None\"\n",
    "    RunModel()\n",
    "    update_plot()"
   ]
  },
  {
   "cell_type": "code",
   "execution_count": 82,
   "metadata": {
    "collapsed": true,
    "extensions": {
     "jupyter_dashboards": {
      "version": 1,
      "views": {
       "grid_default": {
        "hidden": true
       },
       "report_default": {
        "hidden": false
       }
      }
     }
    },
    "urth": {
     "dashboard": {
      "hidden": true,
      "layout": {}
     }
    }
   },
   "outputs": [],
   "source": [
    "# These are the \"Tableau 20\" colors as RGB.  \n",
    "tableau20 = [(31, 119, 180), (174, 199, 232), (255, 127, 14), (255, 187, 120),  \n",
    "             (44, 160, 44), (152, 223, 138), (214, 39, 40), (255, 152, 150),  \n",
    "             (148, 103, 189), (197, 176, 213), (140, 86, 75), (196, 156, 148),  \n",
    "             (227, 119, 194), (247, 182, 210), (127, 127, 127), (199, 199, 199),  \n",
    "             (188, 189, 34), (219, 219, 141), (23, 190, 207), (158, 218, 229)]  \n",
    "  \n",
    "# Scale the RGB values to the [0, 1] range, which is the format matplotlib accepts.  \n",
    "for i in range(len(tableau20)):  \n",
    "    r, g, b = tableau20[i]  \n",
    "    tableau20[i] = (r / 255., g / 255., b / 255.)  "
   ]
  },
  {
   "cell_type": "code",
   "execution_count": 83,
   "metadata": {
    "collapsed": false,
    "extensions": {
     "jupyter_dashboards": {
      "version": 1,
      "views": {
       "grid_default": {
        "hidden": true
       },
       "report_default": {
        "hidden": false
       }
      }
     }
    },
    "urth": {
     "dashboard": {
      "hidden": true,
      "layout": {}
     }
    }
   },
   "outputs": [],
   "source": [
    "model = rsf.Model()"
   ]
  },
  {
   "cell_type": "code",
   "execution_count": 84,
   "metadata": {
    "collapsed": false,
    "extensions": {
     "jupyter_dashboards": {
      "version": 1,
      "views": {
       "grid_default": {
        "hidden": true
       },
       "report_default": {
        "hidden": false
       }
      }
     }
    },
    "urth": {
     "dashboard": {
      "hidden": true,
      "layout": {}
     }
    }
   },
   "outputs": [],
   "source": [
    "a_floatBox = widgets.BoundedFloatText(\n",
    "    value=0.005,\n",
    "    min=0,\n",
    "    max=1,\n",
    "    description='a:',\n",
    ")\n",
    "\n",
    "b1_floatBox = widgets.BoundedFloatText(\n",
    "    value=0.01,\n",
    "    min=0,\n",
    "    max=1,\n",
    "    description='b:',\n",
    ")\n",
    "\n",
    "b2_floatBox = widgets.BoundedFloatText(\n",
    "    value=0.01,\n",
    "    min=0,\n",
    "    max=1,\n",
    "    description='b:',\n",
    ")\n",
    "\n",
    "Dc1_floatBox = widgets.BoundedFloatText(\n",
    "    value=10.0,\n",
    "    min=0,\n",
    "    max=30000.0,\n",
    "    description='Dc:',\n",
    ")\n",
    "\n",
    "Dc2_floatBox = widgets.BoundedFloatText(\n",
    "    value=10.0,\n",
    "    min=0,\n",
    "    max=30000.0,\n",
    "    description='Dc:',\n",
    ")\n",
    "\n",
    "k_floatBox = widgets.BoundedFloatText(\n",
    "    value=1e-3,\n",
    "    min=0.,\n",
    "    max=100,\n",
    "    description='k:',\n",
    ")\n",
    "\n",
    "sv1_dropdown = widgets.Dropdown(\n",
    "    options=['Aging Relation', 'Slowness Relation'],\n",
    "    value='Aging Relation',\n",
    "    decription='State Relation:')\n",
    "\n",
    "sv2_dropdown = widgets.Dropdown(\n",
    "    options=['None', 'Aging Relation', 'Slowness Relation'],\n",
    "    value='None',\n",
    "    decription='State Relation:')\n",
    "\n",
    "simType_buttons = widgets.ToggleButtons(\n",
    "    description='Simulation Type',\n",
    "    options=['Velocity-Displacement', 'Velocity-Time'])\n",
    "\n",
    "calculate_button = widgets.Button(\n",
    "    description=\"Calculate\")\n",
    "\n",
    "reset_button = widgets.Button(\n",
    "    description=\"Reset\")\n",
    "\n",
    "step_sequence_string = widgets.Text(\n",
    "    description='Sequence:',\n",
    "    value='1,10,10,200',\n",
    ")"
   ]
  },
  {
   "cell_type": "code",
   "execution_count": 85,
   "metadata": {
    "collapsed": false,
    "extensions": {
     "jupyter_dashboards": {
      "version": 1,
      "views": {
       "grid_default": {
        "hidden": true
       },
       "report_default": {
        "hidden": false
       }
      }
     }
    },
    "urth": {
     "dashboard": {
      "hidden": true,
      "layout": {}
     }
    }
   },
   "outputs": [],
   "source": [
    "sv1_label = widgets.Latex(\n",
    "    value=\"First State Variable\",\n",
    ")\n",
    "\n",
    "sv2_label = widgets.Latex(\n",
    "    value=\"Second State Variable\",\n",
    ")\n",
    "\n",
    "kc_label = widgets.Latex(\n",
    "    value=\"k$_c$ [$\\mu$m$^{-1}$]: \"\n",
    ")\n",
    "\n",
    "kappa_label = widgets.Latex(\n",
    "    value=\"k/k$_c$: \"\n",
    ")"
   ]
  },
  {
   "cell_type": "code",
   "execution_count": 86,
   "metadata": {
    "collapsed": false,
    "extensions": {
     "jupyter_dashboards": {
      "version": 1,
      "views": {
       "grid_default": {
        "col": 2,
        "height": 3,
        "hidden": false,
        "row": 4,
        "width": 2
       },
       "report_default": {
        "hidden": false
       }
      }
     }
    },
    "urth": {
     "dashboard": {
      "layout": {
       "col": 0,
       "height": 4,
       "row": 0,
       "width": 4
      }
     }
    }
   },
   "outputs": [],
   "source": [
    "display(kc_label, kappa_label)"
   ]
  },
  {
   "cell_type": "code",
   "execution_count": 87,
   "metadata": {
    "collapsed": false,
    "extensions": {
     "jupyter_dashboards": {
      "version": 1,
      "views": {
       "grid_default": {
        "col": 0,
        "height": 4,
        "hidden": false,
        "row": 4,
        "width": 2
       },
       "report_default": {
        "hidden": false
       }
      }
     }
    },
    "urth": {
     "dashboard": {
      "layout": {
       "col": 4,
       "height": 4,
       "row": 0,
       "width": 4
      }
     }
    }
   },
   "outputs": [],
   "source": [
    "display(calculate_button, reset_button)"
   ]
  },
  {
   "cell_type": "code",
   "execution_count": 88,
   "metadata": {
    "collapsed": false,
    "extensions": {
     "jupyter_dashboards": {
      "version": 1,
      "views": {
       "grid_default": {
        "hidden": true
       },
       "report_default": {
        "hidden": false
       }
      }
     }
    },
    "urth": {
     "dashboard": {
      "hidden": true,
      "layout": {}
     }
    }
   },
   "outputs": [],
   "source": [
    "def state_of_sv2():\n",
    "    if sv2_dropdown.value == \"None\":\n",
    "        b2_floatBox.disabled =  True\n",
    "        Dc2_floatBox.disabled =  True\n",
    "    else:\n",
    "        b2_floatBox.disabled = False\n",
    "        Dc2_floatBox.disabled = False"
   ]
  },
  {
   "cell_type": "code",
   "execution_count": 89,
   "metadata": {
    "collapsed": false,
    "extensions": {
     "jupyter_dashboards": {
      "version": 1,
      "views": {
       "grid_default": {
        "hidden": true
       },
       "report_default": {
        "hidden": false
       }
      }
     }
    },
    "urth": {
     "dashboard": {
      "hidden": true,
      "layout": {}
     }
    }
   },
   "outputs": [
    {
     "name": "stderr",
     "output_type": "stream",
     "text": [
      "/Users/jleeman/anaconda/lib/python2.7/site-packages/ipykernel/__main__.py:3: DeprecationWarning: on_trait_change is deprecated: use observe instead\n",
      "  app.launch_new_instance()\n"
     ]
    }
   ],
   "source": [
    "calculate_button.on_click(on_calculate_clicked)\n",
    "reset_button.on_click(on_reset)\n",
    "sv2_dropdown.on_trait_change(state_of_sv2)\n",
    "b2_floatBox.disabled = True\n",
    "Dc2_floatBox.disabled = True"
   ]
  },
  {
   "cell_type": "code",
   "execution_count": 90,
   "metadata": {
    "collapsed": false,
    "extensions": {
     "jupyter_dashboards": {
      "version": 1,
      "views": {
       "grid_default": {
        "col": 0,
        "height": 4,
        "hidden": false,
        "row": 0,
        "width": 4
       },
       "report_default": {
        "hidden": false
       }
      }
     }
    },
    "urth": {
     "dashboard": {
      "layout": {
       "col": 8,
       "height": 4,
       "row": 0,
       "width": 4
      }
     }
    }
   },
   "outputs": [],
   "source": [
    "display(k_floatBox, a_floatBox)"
   ]
  },
  {
   "cell_type": "code",
   "execution_count": 91,
   "metadata": {
    "collapsed": true,
    "extensions": {
     "jupyter_dashboards": {
      "version": 1,
      "views": {
       "grid_default": {
        "col": 4,
        "height": 4,
        "hidden": false,
        "row": 0,
        "width": 4
       },
       "report_default": {
        "hidden": false
       }
      }
     }
    },
    "urth": {
     "dashboard": {
      "layout": {
       "col": 0,
       "height": 5,
       "row": 4,
       "width": 4
      }
     }
    }
   },
   "outputs": [],
   "source": [
    "display(sv1_label, sv1_dropdown, b1_floatBox, Dc1_floatBox)"
   ]
  },
  {
   "cell_type": "code",
   "execution_count": 92,
   "metadata": {
    "collapsed": false,
    "extensions": {
     "jupyter_dashboards": {
      "version": 1,
      "views": {
       "grid_default": {
        "col": 8,
        "height": 4,
        "hidden": false,
        "row": 0,
        "width": 4
       },
       "report_default": {
        "hidden": false
       }
      }
     }
    },
    "urth": {
     "dashboard": {
      "layout": {
       "col": 4,
       "height": 5,
       "row": 4,
       "width": 4
      }
     }
    }
   },
   "outputs": [],
   "source": [
    "display(sv2_label, sv2_dropdown, b2_floatBox, Dc2_floatBox)"
   ]
  },
  {
   "cell_type": "code",
   "execution_count": 93,
   "metadata": {
    "collapsed": false,
    "extensions": {
     "jupyter_dashboards": {
      "version": 1,
      "views": {
       "grid_default": {
        "col": 4,
        "height": 4,
        "hidden": false,
        "row": 4,
        "width": 8
       },
       "report_default": {
        "hidden": false
       }
      }
     }
    },
    "urth": {
     "dashboard": {
      "layout": {
       "col": 8,
       "height": 4,
       "row": 4,
       "width": 4
      }
     }
    }
   },
   "outputs": [],
   "source": [
    "display(simType_buttons)\n",
    "display(step_sequence_string)"
   ]
  },
  {
   "cell_type": "code",
   "execution_count": 94,
   "metadata": {
    "collapsed": false,
    "extensions": {
     "jupyter_dashboards": {
      "version": 1,
      "views": {
       "grid_default": {
        "col": 1,
        "height": 17,
        "hidden": false,
        "row": 8,
        "width": 4
       },
       "report_default": {
        "hidden": false
       }
      }
     }
    },
    "urth": {
     "dashboard": {
      "layout": {
       "col": 0,
       "height": 18,
       "row": 9,
       "width": 5
      }
     }
    }
   },
   "outputs": [
    {
     "data": {
      "application/javascript": [
       "/* Put everything inside the global mpl namespace */\n",
       "window.mpl = {};\n",
       "\n",
       "mpl.get_websocket_type = function() {\n",
       "    if (typeof(WebSocket) !== 'undefined') {\n",
       "        return WebSocket;\n",
       "    } else if (typeof(MozWebSocket) !== 'undefined') {\n",
       "        return MozWebSocket;\n",
       "    } else {\n",
       "        alert('Your browser does not have WebSocket support.' +\n",
       "              'Please try Chrome, Safari or Firefox ≥ 6. ' +\n",
       "              'Firefox 4 and 5 are also supported but you ' +\n",
       "              'have to enable WebSockets in about:config.');\n",
       "    };\n",
       "}\n",
       "\n",
       "mpl.figure = function(figure_id, websocket, ondownload, parent_element) {\n",
       "    this.id = figure_id;\n",
       "\n",
       "    this.ws = websocket;\n",
       "\n",
       "    this.supports_binary = (this.ws.binaryType != undefined);\n",
       "\n",
       "    if (!this.supports_binary) {\n",
       "        var warnings = document.getElementById(\"mpl-warnings\");\n",
       "        if (warnings) {\n",
       "            warnings.style.display = 'block';\n",
       "            warnings.textContent = (\n",
       "                \"This browser does not support binary websocket messages. \" +\n",
       "                    \"Performance may be slow.\");\n",
       "        }\n",
       "    }\n",
       "\n",
       "    this.imageObj = new Image();\n",
       "\n",
       "    this.context = undefined;\n",
       "    this.message = undefined;\n",
       "    this.canvas = undefined;\n",
       "    this.rubberband_canvas = undefined;\n",
       "    this.rubberband_context = undefined;\n",
       "    this.format_dropdown = undefined;\n",
       "\n",
       "    this.image_mode = 'full';\n",
       "\n",
       "    this.root = $('<div/>');\n",
       "    this._root_extra_style(this.root)\n",
       "    this.root.attr('style', 'display: inline-block');\n",
       "\n",
       "    $(parent_element).append(this.root);\n",
       "\n",
       "    this._init_header(this);\n",
       "    this._init_canvas(this);\n",
       "    this._init_toolbar(this);\n",
       "\n",
       "    var fig = this;\n",
       "\n",
       "    this.waiting = false;\n",
       "\n",
       "    this.ws.onopen =  function () {\n",
       "            fig.send_message(\"supports_binary\", {value: fig.supports_binary});\n",
       "            fig.send_message(\"send_image_mode\", {});\n",
       "            fig.send_message(\"refresh\", {});\n",
       "        }\n",
       "\n",
       "    this.imageObj.onload = function() {\n",
       "            if (fig.image_mode == 'full') {\n",
       "                // Full images could contain transparency (where diff images\n",
       "                // almost always do), so we need to clear the canvas so that\n",
       "                // there is no ghosting.\n",
       "                fig.context.clearRect(0, 0, fig.canvas.width, fig.canvas.height);\n",
       "            }\n",
       "            fig.context.drawImage(fig.imageObj, 0, 0);\n",
       "        };\n",
       "\n",
       "    this.imageObj.onunload = function() {\n",
       "        this.ws.close();\n",
       "    }\n",
       "\n",
       "    this.ws.onmessage = this._make_on_message_function(this);\n",
       "\n",
       "    this.ondownload = ondownload;\n",
       "}\n",
       "\n",
       "mpl.figure.prototype._init_header = function() {\n",
       "    var titlebar = $(\n",
       "        '<div class=\"ui-dialog-titlebar ui-widget-header ui-corner-all ' +\n",
       "        'ui-helper-clearfix\"/>');\n",
       "    var titletext = $(\n",
       "        '<div class=\"ui-dialog-title\" style=\"width: 100%; ' +\n",
       "        'text-align: center; padding: 3px;\"/>');\n",
       "    titlebar.append(titletext)\n",
       "    this.root.append(titlebar);\n",
       "    this.header = titletext[0];\n",
       "}\n",
       "\n",
       "\n",
       "\n",
       "mpl.figure.prototype._canvas_extra_style = function(canvas_div) {\n",
       "\n",
       "}\n",
       "\n",
       "\n",
       "mpl.figure.prototype._root_extra_style = function(canvas_div) {\n",
       "\n",
       "}\n",
       "\n",
       "mpl.figure.prototype._init_canvas = function() {\n",
       "    var fig = this;\n",
       "\n",
       "    var canvas_div = $('<div/>');\n",
       "\n",
       "    canvas_div.attr('style', 'position: relative; clear: both; outline: 0');\n",
       "\n",
       "    function canvas_keyboard_event(event) {\n",
       "        return fig.key_event(event, event['data']);\n",
       "    }\n",
       "\n",
       "    canvas_div.keydown('key_press', canvas_keyboard_event);\n",
       "    canvas_div.keyup('key_release', canvas_keyboard_event);\n",
       "    this.canvas_div = canvas_div\n",
       "    this._canvas_extra_style(canvas_div)\n",
       "    this.root.append(canvas_div);\n",
       "\n",
       "    var canvas = $('<canvas/>');\n",
       "    canvas.addClass('mpl-canvas');\n",
       "    canvas.attr('style', \"left: 0; top: 0; z-index: 0; outline: 0\")\n",
       "\n",
       "    this.canvas = canvas[0];\n",
       "    this.context = canvas[0].getContext(\"2d\");\n",
       "\n",
       "    var rubberband = $('<canvas/>');\n",
       "    rubberband.attr('style', \"position: absolute; left: 0; top: 0; z-index: 1;\")\n",
       "\n",
       "    var pass_mouse_events = true;\n",
       "\n",
       "    canvas_div.resizable({\n",
       "        start: function(event, ui) {\n",
       "            pass_mouse_events = false;\n",
       "        },\n",
       "        resize: function(event, ui) {\n",
       "            fig.request_resize(ui.size.width, ui.size.height);\n",
       "        },\n",
       "        stop: function(event, ui) {\n",
       "            pass_mouse_events = true;\n",
       "            fig.request_resize(ui.size.width, ui.size.height);\n",
       "        },\n",
       "    });\n",
       "\n",
       "    function mouse_event_fn(event) {\n",
       "        if (pass_mouse_events)\n",
       "            return fig.mouse_event(event, event['data']);\n",
       "    }\n",
       "\n",
       "    rubberband.mousedown('button_press', mouse_event_fn);\n",
       "    rubberband.mouseup('button_release', mouse_event_fn);\n",
       "    // Throttle sequential mouse events to 1 every 20ms.\n",
       "    rubberband.mousemove('motion_notify', mouse_event_fn);\n",
       "\n",
       "    rubberband.mouseenter('figure_enter', mouse_event_fn);\n",
       "    rubberband.mouseleave('figure_leave', mouse_event_fn);\n",
       "\n",
       "    canvas_div.on(\"wheel\", function (event) {\n",
       "        event = event.originalEvent;\n",
       "        event['data'] = 'scroll'\n",
       "        if (event.deltaY < 0) {\n",
       "            event.step = 1;\n",
       "        } else {\n",
       "            event.step = -1;\n",
       "        }\n",
       "        mouse_event_fn(event);\n",
       "    });\n",
       "\n",
       "    canvas_div.append(canvas);\n",
       "    canvas_div.append(rubberband);\n",
       "\n",
       "    this.rubberband = rubberband;\n",
       "    this.rubberband_canvas = rubberband[0];\n",
       "    this.rubberband_context = rubberband[0].getContext(\"2d\");\n",
       "    this.rubberband_context.strokeStyle = \"#000000\";\n",
       "\n",
       "    this._resize_canvas = function(width, height) {\n",
       "        // Keep the size of the canvas, canvas container, and rubber band\n",
       "        // canvas in synch.\n",
       "        canvas_div.css('width', width)\n",
       "        canvas_div.css('height', height)\n",
       "\n",
       "        canvas.attr('width', width);\n",
       "        canvas.attr('height', height);\n",
       "\n",
       "        rubberband.attr('width', width);\n",
       "        rubberband.attr('height', height);\n",
       "    }\n",
       "\n",
       "    // Set the figure to an initial 600x600px, this will subsequently be updated\n",
       "    // upon first draw.\n",
       "    this._resize_canvas(600, 600);\n",
       "\n",
       "    // Disable right mouse context menu.\n",
       "    $(this.rubberband_canvas).bind(\"contextmenu\",function(e){\n",
       "        return false;\n",
       "    });\n",
       "\n",
       "    function set_focus () {\n",
       "        canvas.focus();\n",
       "        canvas_div.focus();\n",
       "    }\n",
       "\n",
       "    window.setTimeout(set_focus, 100);\n",
       "}\n",
       "\n",
       "mpl.figure.prototype._init_toolbar = function() {\n",
       "    var fig = this;\n",
       "\n",
       "    var nav_element = $('<div/>')\n",
       "    nav_element.attr('style', 'width: 100%');\n",
       "    this.root.append(nav_element);\n",
       "\n",
       "    // Define a callback function for later on.\n",
       "    function toolbar_event(event) {\n",
       "        return fig.toolbar_button_onclick(event['data']);\n",
       "    }\n",
       "    function toolbar_mouse_event(event) {\n",
       "        return fig.toolbar_button_onmouseover(event['data']);\n",
       "    }\n",
       "\n",
       "    for(var toolbar_ind in mpl.toolbar_items) {\n",
       "        var name = mpl.toolbar_items[toolbar_ind][0];\n",
       "        var tooltip = mpl.toolbar_items[toolbar_ind][1];\n",
       "        var image = mpl.toolbar_items[toolbar_ind][2];\n",
       "        var method_name = mpl.toolbar_items[toolbar_ind][3];\n",
       "\n",
       "        if (!name) {\n",
       "            // put a spacer in here.\n",
       "            continue;\n",
       "        }\n",
       "        var button = $('<button/>');\n",
       "        button.addClass('ui-button ui-widget ui-state-default ui-corner-all ' +\n",
       "                        'ui-button-icon-only');\n",
       "        button.attr('role', 'button');\n",
       "        button.attr('aria-disabled', 'false');\n",
       "        button.click(method_name, toolbar_event);\n",
       "        button.mouseover(tooltip, toolbar_mouse_event);\n",
       "\n",
       "        var icon_img = $('<span/>');\n",
       "        icon_img.addClass('ui-button-icon-primary ui-icon');\n",
       "        icon_img.addClass(image);\n",
       "        icon_img.addClass('ui-corner-all');\n",
       "\n",
       "        var tooltip_span = $('<span/>');\n",
       "        tooltip_span.addClass('ui-button-text');\n",
       "        tooltip_span.html(tooltip);\n",
       "\n",
       "        button.append(icon_img);\n",
       "        button.append(tooltip_span);\n",
       "\n",
       "        nav_element.append(button);\n",
       "    }\n",
       "\n",
       "    var fmt_picker_span = $('<span/>');\n",
       "\n",
       "    var fmt_picker = $('<select/>');\n",
       "    fmt_picker.addClass('mpl-toolbar-option ui-widget ui-widget-content');\n",
       "    fmt_picker_span.append(fmt_picker);\n",
       "    nav_element.append(fmt_picker_span);\n",
       "    this.format_dropdown = fmt_picker[0];\n",
       "\n",
       "    for (var ind in mpl.extensions) {\n",
       "        var fmt = mpl.extensions[ind];\n",
       "        var option = $(\n",
       "            '<option/>', {selected: fmt === mpl.default_extension}).html(fmt);\n",
       "        fmt_picker.append(option)\n",
       "    }\n",
       "\n",
       "    // Add hover states to the ui-buttons\n",
       "    $( \".ui-button\" ).hover(\n",
       "        function() { $(this).addClass(\"ui-state-hover\");},\n",
       "        function() { $(this).removeClass(\"ui-state-hover\");}\n",
       "    );\n",
       "\n",
       "    var status_bar = $('<span class=\"mpl-message\"/>');\n",
       "    nav_element.append(status_bar);\n",
       "    this.message = status_bar[0];\n",
       "}\n",
       "\n",
       "mpl.figure.prototype.request_resize = function(x_pixels, y_pixels) {\n",
       "    // Request matplotlib to resize the figure. Matplotlib will then trigger a resize in the client,\n",
       "    // which will in turn request a refresh of the image.\n",
       "    this.send_message('resize', {'width': x_pixels, 'height': y_pixels});\n",
       "}\n",
       "\n",
       "mpl.figure.prototype.send_message = function(type, properties) {\n",
       "    properties['type'] = type;\n",
       "    properties['figure_id'] = this.id;\n",
       "    this.ws.send(JSON.stringify(properties));\n",
       "}\n",
       "\n",
       "mpl.figure.prototype.send_draw_message = function() {\n",
       "    if (!this.waiting) {\n",
       "        this.waiting = true;\n",
       "        this.ws.send(JSON.stringify({type: \"draw\", figure_id: this.id}));\n",
       "    }\n",
       "}\n",
       "\n",
       "\n",
       "mpl.figure.prototype.handle_save = function(fig, msg) {\n",
       "    var format_dropdown = fig.format_dropdown;\n",
       "    var format = format_dropdown.options[format_dropdown.selectedIndex].value;\n",
       "    fig.ondownload(fig, format);\n",
       "}\n",
       "\n",
       "\n",
       "mpl.figure.prototype.handle_resize = function(fig, msg) {\n",
       "    var size = msg['size'];\n",
       "    if (size[0] != fig.canvas.width || size[1] != fig.canvas.height) {\n",
       "        fig._resize_canvas(size[0], size[1]);\n",
       "        fig.send_message(\"refresh\", {});\n",
       "    };\n",
       "}\n",
       "\n",
       "mpl.figure.prototype.handle_rubberband = function(fig, msg) {\n",
       "    var x0 = msg['x0'];\n",
       "    var y0 = fig.canvas.height - msg['y0'];\n",
       "    var x1 = msg['x1'];\n",
       "    var y1 = fig.canvas.height - msg['y1'];\n",
       "    x0 = Math.floor(x0) + 0.5;\n",
       "    y0 = Math.floor(y0) + 0.5;\n",
       "    x1 = Math.floor(x1) + 0.5;\n",
       "    y1 = Math.floor(y1) + 0.5;\n",
       "    var min_x = Math.min(x0, x1);\n",
       "    var min_y = Math.min(y0, y1);\n",
       "    var width = Math.abs(x1 - x0);\n",
       "    var height = Math.abs(y1 - y0);\n",
       "\n",
       "    fig.rubberband_context.clearRect(\n",
       "        0, 0, fig.canvas.width, fig.canvas.height);\n",
       "\n",
       "    fig.rubberband_context.strokeRect(min_x, min_y, width, height);\n",
       "}\n",
       "\n",
       "mpl.figure.prototype.handle_figure_label = function(fig, msg) {\n",
       "    // Updates the figure title.\n",
       "    fig.header.textContent = msg['label'];\n",
       "}\n",
       "\n",
       "mpl.figure.prototype.handle_cursor = function(fig, msg) {\n",
       "    var cursor = msg['cursor'];\n",
       "    switch(cursor)\n",
       "    {\n",
       "    case 0:\n",
       "        cursor = 'pointer';\n",
       "        break;\n",
       "    case 1:\n",
       "        cursor = 'default';\n",
       "        break;\n",
       "    case 2:\n",
       "        cursor = 'crosshair';\n",
       "        break;\n",
       "    case 3:\n",
       "        cursor = 'move';\n",
       "        break;\n",
       "    }\n",
       "    fig.rubberband_canvas.style.cursor = cursor;\n",
       "}\n",
       "\n",
       "mpl.figure.prototype.handle_message = function(fig, msg) {\n",
       "    fig.message.textContent = msg['message'];\n",
       "}\n",
       "\n",
       "mpl.figure.prototype.handle_draw = function(fig, msg) {\n",
       "    // Request the server to send over a new figure.\n",
       "    fig.send_draw_message();\n",
       "}\n",
       "\n",
       "mpl.figure.prototype.handle_image_mode = function(fig, msg) {\n",
       "    fig.image_mode = msg['mode'];\n",
       "}\n",
       "\n",
       "mpl.figure.prototype.updated_canvas_event = function() {\n",
       "    // Called whenever the canvas gets updated.\n",
       "    this.send_message(\"ack\", {});\n",
       "}\n",
       "\n",
       "// A function to construct a web socket function for onmessage handling.\n",
       "// Called in the figure constructor.\n",
       "mpl.figure.prototype._make_on_message_function = function(fig) {\n",
       "    return function socket_on_message(evt) {\n",
       "        if (evt.data instanceof Blob) {\n",
       "            /* FIXME: We get \"Resource interpreted as Image but\n",
       "             * transferred with MIME type text/plain:\" errors on\n",
       "             * Chrome.  But how to set the MIME type?  It doesn't seem\n",
       "             * to be part of the websocket stream */\n",
       "            evt.data.type = \"image/png\";\n",
       "\n",
       "            /* Free the memory for the previous frames */\n",
       "            if (fig.imageObj.src) {\n",
       "                (window.URL || window.webkitURL).revokeObjectURL(\n",
       "                    fig.imageObj.src);\n",
       "            }\n",
       "\n",
       "            fig.imageObj.src = (window.URL || window.webkitURL).createObjectURL(\n",
       "                evt.data);\n",
       "            fig.updated_canvas_event();\n",
       "            fig.waiting = false;\n",
       "            return;\n",
       "        }\n",
       "        else if (typeof evt.data === 'string' && evt.data.slice(0, 21) == \"data:image/png;base64\") {\n",
       "            fig.imageObj.src = evt.data;\n",
       "            fig.updated_canvas_event();\n",
       "            fig.waiting = false;\n",
       "            return;\n",
       "        }\n",
       "\n",
       "        var msg = JSON.parse(evt.data);\n",
       "        var msg_type = msg['type'];\n",
       "\n",
       "        // Call the  \"handle_{type}\" callback, which takes\n",
       "        // the figure and JSON message as its only arguments.\n",
       "        try {\n",
       "            var callback = fig[\"handle_\" + msg_type];\n",
       "        } catch (e) {\n",
       "            console.log(\"No handler for the '\" + msg_type + \"' message type: \", msg);\n",
       "            return;\n",
       "        }\n",
       "\n",
       "        if (callback) {\n",
       "            try {\n",
       "                // console.log(\"Handling '\" + msg_type + \"' message: \", msg);\n",
       "                callback(fig, msg);\n",
       "            } catch (e) {\n",
       "                console.log(\"Exception inside the 'handler_\" + msg_type + \"' callback:\", e, e.stack, msg);\n",
       "            }\n",
       "        }\n",
       "    };\n",
       "}\n",
       "\n",
       "// from http://stackoverflow.com/questions/1114465/getting-mouse-location-in-canvas\n",
       "mpl.findpos = function(e) {\n",
       "    //this section is from http://www.quirksmode.org/js/events_properties.html\n",
       "    var targ;\n",
       "    if (!e)\n",
       "        e = window.event;\n",
       "    if (e.target)\n",
       "        targ = e.target;\n",
       "    else if (e.srcElement)\n",
       "        targ = e.srcElement;\n",
       "    if (targ.nodeType == 3) // defeat Safari bug\n",
       "        targ = targ.parentNode;\n",
       "\n",
       "    // jQuery normalizes the pageX and pageY\n",
       "    // pageX,Y are the mouse positions relative to the document\n",
       "    // offset() returns the position of the element relative to the document\n",
       "    var x = e.pageX - $(targ).offset().left;\n",
       "    var y = e.pageY - $(targ).offset().top;\n",
       "\n",
       "    return {\"x\": x, \"y\": y};\n",
       "};\n",
       "\n",
       "/*\n",
       " * return a copy of an object with only non-object keys\n",
       " * we need this to avoid circular references\n",
       " * http://stackoverflow.com/a/24161582/3208463\n",
       " */\n",
       "function simpleKeys (original) {\n",
       "  return Object.keys(original).reduce(function (obj, key) {\n",
       "    if (typeof original[key] !== 'object')\n",
       "        obj[key] = original[key]\n",
       "    return obj;\n",
       "  }, {});\n",
       "}\n",
       "\n",
       "mpl.figure.prototype.mouse_event = function(event, name) {\n",
       "    var canvas_pos = mpl.findpos(event)\n",
       "\n",
       "    if (name === 'button_press')\n",
       "    {\n",
       "        this.canvas.focus();\n",
       "        this.canvas_div.focus();\n",
       "    }\n",
       "\n",
       "    var x = canvas_pos.x;\n",
       "    var y = canvas_pos.y;\n",
       "\n",
       "    this.send_message(name, {x: x, y: y, button: event.button,\n",
       "                             step: event.step,\n",
       "                             guiEvent: simpleKeys(event)});\n",
       "\n",
       "    /* This prevents the web browser from automatically changing to\n",
       "     * the text insertion cursor when the button is pressed.  We want\n",
       "     * to control all of the cursor setting manually through the\n",
       "     * 'cursor' event from matplotlib */\n",
       "    event.preventDefault();\n",
       "    return false;\n",
       "}\n",
       "\n",
       "mpl.figure.prototype._key_event_extra = function(event, name) {\n",
       "    // Handle any extra behaviour associated with a key event\n",
       "}\n",
       "\n",
       "mpl.figure.prototype.key_event = function(event, name) {\n",
       "\n",
       "    // Prevent repeat events\n",
       "    if (name == 'key_press')\n",
       "    {\n",
       "        if (event.which === this._key)\n",
       "            return;\n",
       "        else\n",
       "            this._key = event.which;\n",
       "    }\n",
       "    if (name == 'key_release')\n",
       "        this._key = null;\n",
       "\n",
       "    var value = '';\n",
       "    if (event.ctrlKey && event.which != 17)\n",
       "        value += \"ctrl+\";\n",
       "    if (event.altKey && event.which != 18)\n",
       "        value += \"alt+\";\n",
       "    if (event.shiftKey && event.which != 16)\n",
       "        value += \"shift+\";\n",
       "\n",
       "    value += 'k';\n",
       "    value += event.which.toString();\n",
       "\n",
       "    this._key_event_extra(event, name);\n",
       "\n",
       "    this.send_message(name, {key: value,\n",
       "                             guiEvent: simpleKeys(event)});\n",
       "    return false;\n",
       "}\n",
       "\n",
       "mpl.figure.prototype.toolbar_button_onclick = function(name) {\n",
       "    if (name == 'download') {\n",
       "        this.handle_save(this, null);\n",
       "    } else {\n",
       "        this.send_message(\"toolbar_button\", {name: name});\n",
       "    }\n",
       "};\n",
       "\n",
       "mpl.figure.prototype.toolbar_button_onmouseover = function(tooltip) {\n",
       "    this.message.textContent = tooltip;\n",
       "};\n",
       "mpl.toolbar_items = [[\"Home\", \"Reset original view\", \"fa fa-home icon-home\", \"home\"], [\"Back\", \"Back to  previous view\", \"fa fa-arrow-left icon-arrow-left\", \"back\"], [\"Forward\", \"Forward to next view\", \"fa fa-arrow-right icon-arrow-right\", \"forward\"], [\"\", \"\", \"\", \"\"], [\"Pan\", \"Pan axes with left mouse, zoom with right\", \"fa fa-arrows icon-move\", \"pan\"], [\"Zoom\", \"Zoom to rectangle\", \"fa fa-square-o icon-check-empty\", \"zoom\"], [\"\", \"\", \"\", \"\"], [\"Download\", \"Download plot\", \"fa fa-floppy-o icon-save\", \"download\"]];\n",
       "\n",
       "mpl.extensions = [\"eps\", \"jpeg\", \"pdf\", \"png\", \"ps\", \"raw\", \"svg\", \"tif\"];\n",
       "\n",
       "mpl.default_extension = \"png\";var comm_websocket_adapter = function(comm) {\n",
       "    // Create a \"websocket\"-like object which calls the given IPython comm\n",
       "    // object with the appropriate methods. Currently this is a non binary\n",
       "    // socket, so there is still some room for performance tuning.\n",
       "    var ws = {};\n",
       "\n",
       "    ws.close = function() {\n",
       "        comm.close()\n",
       "    };\n",
       "    ws.send = function(m) {\n",
       "        //console.log('sending', m);\n",
       "        comm.send(m);\n",
       "    };\n",
       "    // Register the callback with on_msg.\n",
       "    comm.on_msg(function(msg) {\n",
       "        //console.log('receiving', msg['content']['data'], msg);\n",
       "        // Pass the mpl event to the overriden (by mpl) onmessage function.\n",
       "        ws.onmessage(msg['content']['data'])\n",
       "    });\n",
       "    return ws;\n",
       "}\n",
       "\n",
       "mpl.mpl_figure_comm = function(comm, msg) {\n",
       "    // This is the function which gets called when the mpl process\n",
       "    // starts-up an IPython Comm through the \"matplotlib\" channel.\n",
       "\n",
       "    var id = msg.content.data.id;\n",
       "    // Get hold of the div created by the display call when the Comm\n",
       "    // socket was opened in Python.\n",
       "    var element = $(\"#\" + id);\n",
       "    var ws_proxy = comm_websocket_adapter(comm)\n",
       "\n",
       "    function ondownload(figure, format) {\n",
       "        window.open(figure.imageObj.src);\n",
       "    }\n",
       "\n",
       "    var fig = new mpl.figure(id, ws_proxy,\n",
       "                           ondownload,\n",
       "                           element.get(0));\n",
       "\n",
       "    // Call onopen now - mpl needs it, as it is assuming we've passed it a real\n",
       "    // web socket which is closed, not our websocket->open comm proxy.\n",
       "    ws_proxy.onopen();\n",
       "\n",
       "    fig.parent_element = element.get(0);\n",
       "    fig.cell_info = mpl.find_output_cell(\"<div id='\" + id + \"'></div>\");\n",
       "    if (!fig.cell_info) {\n",
       "        console.error(\"Failed to find cell for figure\", id, fig);\n",
       "        return;\n",
       "    }\n",
       "\n",
       "    var output_index = fig.cell_info[2]\n",
       "    var cell = fig.cell_info[0];\n",
       "\n",
       "};\n",
       "\n",
       "mpl.figure.prototype.handle_close = function(fig, msg) {\n",
       "    fig.root.unbind('remove')\n",
       "\n",
       "    // Update the output cell to use the data from the current canvas.\n",
       "    fig.push_to_output();\n",
       "    var dataURL = fig.canvas.toDataURL();\n",
       "    // Re-enable the keyboard manager in IPython - without this line, in FF,\n",
       "    // the notebook keyboard shortcuts fail.\n",
       "    IPython.keyboard_manager.enable()\n",
       "    $(fig.parent_element).html('<img src=\"' + dataURL + '\">');\n",
       "    fig.close_ws(fig, msg);\n",
       "}\n",
       "\n",
       "mpl.figure.prototype.close_ws = function(fig, msg){\n",
       "    fig.send_message('closing', msg);\n",
       "    // fig.ws.close()\n",
       "}\n",
       "\n",
       "mpl.figure.prototype.push_to_output = function(remove_interactive) {\n",
       "    // Turn the data on the canvas into data in the output cell.\n",
       "    var dataURL = this.canvas.toDataURL();\n",
       "    this.cell_info[1]['text/html'] = '<img src=\"' + dataURL + '\">';\n",
       "}\n",
       "\n",
       "mpl.figure.prototype.updated_canvas_event = function() {\n",
       "    // Tell IPython that the notebook contents must change.\n",
       "    IPython.notebook.set_dirty(true);\n",
       "    this.send_message(\"ack\", {});\n",
       "    var fig = this;\n",
       "    // Wait a second, then push the new image to the DOM so\n",
       "    // that it is saved nicely (might be nice to debounce this).\n",
       "    setTimeout(function () { fig.push_to_output() }, 1000);\n",
       "}\n",
       "\n",
       "mpl.figure.prototype._init_toolbar = function() {\n",
       "    var fig = this;\n",
       "\n",
       "    var nav_element = $('<div/>')\n",
       "    nav_element.attr('style', 'width: 100%');\n",
       "    this.root.append(nav_element);\n",
       "\n",
       "    // Define a callback function for later on.\n",
       "    function toolbar_event(event) {\n",
       "        return fig.toolbar_button_onclick(event['data']);\n",
       "    }\n",
       "    function toolbar_mouse_event(event) {\n",
       "        return fig.toolbar_button_onmouseover(event['data']);\n",
       "    }\n",
       "\n",
       "    for(var toolbar_ind in mpl.toolbar_items){\n",
       "        var name = mpl.toolbar_items[toolbar_ind][0];\n",
       "        var tooltip = mpl.toolbar_items[toolbar_ind][1];\n",
       "        var image = mpl.toolbar_items[toolbar_ind][2];\n",
       "        var method_name = mpl.toolbar_items[toolbar_ind][3];\n",
       "\n",
       "        if (!name) { continue; };\n",
       "\n",
       "        var button = $('<button class=\"btn btn-default\" href=\"#\" title=\"' + name + '\"><i class=\"fa ' + image + ' fa-lg\"></i></button>');\n",
       "        button.click(method_name, toolbar_event);\n",
       "        button.mouseover(tooltip, toolbar_mouse_event);\n",
       "        nav_element.append(button);\n",
       "    }\n",
       "\n",
       "    // Add the status bar.\n",
       "    var status_bar = $('<span class=\"mpl-message\" style=\"text-align:right; float: right;\"/>');\n",
       "    nav_element.append(status_bar);\n",
       "    this.message = status_bar[0];\n",
       "\n",
       "    // Add the close button to the window.\n",
       "    var buttongrp = $('<div class=\"btn-group inline pull-right\"></div>');\n",
       "    var button = $('<button class=\"btn btn-mini btn-primary\" href=\"#\" title=\"Stop Interaction\"><i class=\"fa fa-power-off icon-remove icon-large\"></i></button>');\n",
       "    button.click(function (evt) { fig.handle_close(fig, {}); } );\n",
       "    button.mouseover('Stop Interaction', toolbar_mouse_event);\n",
       "    buttongrp.append(button);\n",
       "    var titlebar = this.root.find($('.ui-dialog-titlebar'));\n",
       "    titlebar.prepend(buttongrp);\n",
       "}\n",
       "\n",
       "mpl.figure.prototype._root_extra_style = function(el){\n",
       "    var fig = this\n",
       "    el.on(\"remove\", function(){\n",
       "\tfig.close_ws(fig, {});\n",
       "    });\n",
       "}\n",
       "\n",
       "mpl.figure.prototype._canvas_extra_style = function(el){\n",
       "    // this is important to make the div 'focusable\n",
       "    el.attr('tabindex', 0)\n",
       "    // reach out to IPython and tell the keyboard manager to turn it's self\n",
       "    // off when our div gets focus\n",
       "\n",
       "    // location in version 3\n",
       "    if (IPython.notebook.keyboard_manager) {\n",
       "        IPython.notebook.keyboard_manager.register_events(el);\n",
       "    }\n",
       "    else {\n",
       "        // location in version 2\n",
       "        IPython.keyboard_manager.register_events(el);\n",
       "    }\n",
       "\n",
       "}\n",
       "\n",
       "mpl.figure.prototype._key_event_extra = function(event, name) {\n",
       "    var manager = IPython.notebook.keyboard_manager;\n",
       "    if (!manager)\n",
       "        manager = IPython.keyboard_manager;\n",
       "\n",
       "    // Check for shift+enter\n",
       "    if (event.shiftKey && event.which == 13) {\n",
       "        this.canvas_div.blur();\n",
       "        event.shiftKey = false;\n",
       "        // Send a \"J\" for go to next cell\n",
       "        event.which = 74;\n",
       "        event.keyCode = 74;\n",
       "        manager.command_mode();\n",
       "        manager.handle_keydown(event);\n",
       "    }\n",
       "}\n",
       "\n",
       "mpl.figure.prototype.handle_save = function(fig, msg) {\n",
       "    fig.ondownload(fig, null);\n",
       "}\n",
       "\n",
       "\n",
       "mpl.find_output_cell = function(html_output) {\n",
       "    // Return the cell and output element which can be found *uniquely* in the notebook.\n",
       "    // Note - this is a bit hacky, but it is done because the \"notebook_saving.Notebook\"\n",
       "    // IPython event is triggered only after the cells have been serialised, which for\n",
       "    // our purposes (turning an active figure into a static one), is too late.\n",
       "    var cells = IPython.notebook.get_cells();\n",
       "    var ncells = cells.length;\n",
       "    for (var i=0; i<ncells; i++) {\n",
       "        var cell = cells[i];\n",
       "        if (cell.cell_type === 'code'){\n",
       "            for (var j=0; j<cell.output_area.outputs.length; j++) {\n",
       "                var data = cell.output_area.outputs[j];\n",
       "                if (data.data) {\n",
       "                    // IPython >= 3 moved mimebundle to data attribute of output\n",
       "                    data = data.data;\n",
       "                }\n",
       "                if (data['text/html'] == html_output) {\n",
       "                    return [cell, data, j];\n",
       "                }\n",
       "            }\n",
       "        }\n",
       "    }\n",
       "}\n",
       "\n",
       "// Register the function which deals with the matplotlib target/channel.\n",
       "// The kernel may be null if the page has been refreshed.\n",
       "if (IPython.notebook.kernel != null) {\n",
       "    IPython.notebook.kernel.comm_manager.register_target('matplotlib', mpl.mpl_figure_comm);\n",
       "}\n"
      ],
      "text/plain": [
       "<IPython.core.display.Javascript object>"
      ]
     },
     "metadata": {},
     "output_type": "display_data"
    },
    {
     "data": {
      "text/html": [
       "<img src=\"data:image/png;base64,iVBORw0KGgoAAAANSUhEUgAAAZAAAAGQCAYAAACAvzbMAAAAAXNSR0IArs4c6QAAQABJREFUeAHsXQWcVFUXP8TS3dLdnRKS0iIiIYoCiiCgICDIhyIpoSAhqAhKp0iDtDRII7F0s0vDwgILu8D7zv8us84uE292p97MOfwO8+Lm/9195917TxAJCQKCgCAgCAgCgoAgIAgIAoKAICAICAKCgCAgCAgCgoAgIAgIAoKAICAICAKCgCAgCAgCgoAgIAgIAoKAICAICAKCgCAgCAgCgoAgIAgIAoKAICAICAKCgCAgCAgCgoAgIAgIAoKAICAICAKCgCAgCAgCgoAgIAgIAoKAICAICAKCgCAgCAgCgoAgIAgIAoKAICAICAKCgCAgCAgCgoAgIAgIAoKAICAICAKCgCAgCAgCgoAgIAgIAoKAICAICAKCgCAgCAgCgoAgIAgIAoKAICAICAKCgCAgCAgCgoAgIAgIAoKAICAICAKCgCAgCAgCgoAgIAgIAoKAICAICAKCgCAgCAgCgoAgIAgIAoKAICAICAKCgCAgCAgCgoAgIAgIAoKAICAICAKCgCAgCAgCgoAgIAgIAoKAICAICAKCgCAgCAgCgoAgIAgIAoKAICAICAKCgCAgCAgCgoAgIAgIAoKAICAICAKCgCAgCAgCgoA+BAZzsiDmUObNzMWYbVF7vnmY+QHzNeZxzCYqyQd/MV9lfs5cmzkmpeELc5hDmO8wz2JOzSwkCAgCgoAgYCAE+nBbLzIXZU7MPJz5CnMyZkv0BV88y1yFOT5zUubSzCYqzAcdmMsyP2O2JEBW8fV1zGmZ0zGvZ17KLCQICAKCgCBgIATOcVs/M2tvAj6+ztzG7JrpMCUfYJbSyHTBzq+lGUhOzoPrxc3yYtaCa9nNrsmhICAICAKCgIcQwOzAHqXiBLmZ95olxKzhEHMZs2umQ8w6MDPBLOMUM5avVjNDAOglzFYeMx81y4DlsHBm85mM2W05FAQEAUFAEHAnAnoFCNoUEqNhd/kcwiUmZeAL8ZibMldnzsX8L/MaZsxO9BDKvWchIdpgqU4LSeWSICAICAKCgCsRSKij8Psv0qSJkRZ7E9gHiUmm9MP4BmYfoK+YuzFjdrKW2R6hDEsb5miDqXzzMiCwsjJj6UxIEBAEBAFfQQAf3cHMmjd2SK8AucCNr8C8+0UnsAeC5auZL87Nfw6an7w4xgveETrEibFZjz0Q0zJWKT4OYMa9mAThYUmYxUwn54KAICAIGA0B7PtCA9brSI8AQaN/Zu7NvIn5HPMA5ifMS5hjEl7kuI5ZB172WIoayHyHeQeziSAgTIIFggHnT5mxv3KJGWq+o5mxUY90OF7ObElQqJnH5cuXKVUq71vh+uqrr2j4cCiueR95a9u8sV3Pnj2j27dv07hx4+R56hzKBw4coNOnT1OrVq3o66+/9krcvG2sDRw4kI4dO0YjR46kcuXKAWmvXVnRK0Dw8k7BvIEZU6p9zA2YHzHnYA58cW4SEO34fBzzCWYIBGzA12d+wAzKxXyeWXvBEBagwcxD1BHRB/w7kfksM9KtYP6M2SpBeHijAEmUKJFXtgtAemvbvLVdadOm9VrMvPF51qxZk8De2DbVKP7P28bad999RwEBARQa6rVywwQd6RUgyDDoBePYnC7zSczNcQiKj1+weVrT8UU+iG86sfIbwtfft3JPLutE4PHjx4Qv5+TJk+vMIckEAUHAkwhAoBmF7L3EjdIPr25n/fqYfLmfsHyAKfD48eOtVu6ptllt0IsbnmpXeHg49e/fn/bs2WO1iZ5qm9UGmd3wVNuw5PL0KVagrZOn2ma9RZF3vLVd9tot952HADY+tHv37mlCmhYREaENHTpUS5o0qTZ48GB1LrjYR+DIkSNa6dKltZIlS2o4FrKPgPlY27Ztm/0MkkIhgPFVvXp17fz581YRwfsM7zVm79vYffHulhnICyB85efkyZNUtWpVmjt3Lm3dupUGDBhACRM6slLpK0jo7weW+EaPHk2VKlWihg0bqtlH8eLF9Rfgpykx1qpVq6bGGgsPdeynUOjutvlYA3ZZs0KBVMjTCMgMhL9j/v33X433OrSePXtqjx49svplIzf+QwBfgK+99pqWL18+bceOHf/dkCOrCPBLUJswYYIaa7169ZKxZhWp6DfOnTvn0FgzwgxEPk09LfqcWD++mjdv3kzly5d3Yqm+XRQ0XXjJilavXi2KBjof9eTJk2nUqFG0cuXKKA0rnVn9Ntn8+fOpU6dO9P7779Nff/1FKVJAqdX4ZLLDMHpPMANhgX3Pa9VljQ6wtF8QMCEAzT4oG3ijyrypjd72u2nTJnry5Ak1aADrB310//59Sp06NRLjP0seOPQV5MJUIkBcCK4ULQgIAoJAbBEwggCRTfTYPl0P5lu1ahVt377dgy0wXtUhISHqq9l4LZcWCwLei4AIEO99Ni+1DOv1WEd977336Pp1hGMR0oPAhg0bqESJEjRnzhw9ySUNI4Cx9umnnxI0rYT0I7B//37irXP9GQyeUgSIQR4g1CRLlSpFZ86cocOHD1Pz5s0N0nLPNZM10ah79+7UrFkz5Yepffv2nmuMgWo2jbXAwEBiWyIDtdxzTTWNNbhtOXECHpyEjISAz6rx8oal1qdPHy1ZsmQaO/HToEIpZB+B3bt3a4UKFdKqVKmisTM/+xkkhRYWFhY11saOHStjTeeYwFgrWLCgVrlyZaeONSOo8RpJSNhqq88KELz8YLHKX4M6h7Mk27hxoxK47M1UY/caAogOBA4dOqSxGrjGrm80dkuiI4ckYU007ZtvvlEeH0aMGOH0sWYEASJaWLbEktwzJAJQMYUL8WLFihmy/Z5oNLwWsOBVfsDgCVbIPgLw8rB06VKaNWuWWl62n8OxFEbQwhIB4tgzldSCgCAgCCgEoGgAz7mJEyOUkfPJCAJELNGd/9xjVSIvCChvpvL1Fyv4JJMg4HYEUqaMGcXC7U3weIWiheXxR8CxKoOCqFGjRjRs2DAvaI0xmgCBO336dGKvpsZosJe0Eurfz58/95LWSDOMjoAIEA8/QfjIgY1CpkyZqEePHh5ujTGqv3HjhlLN7devnwoxa4xWe76VGGtFihShdevWeb4xBmkBxlrbtm0pODjYIC12bzNFgLgX76ja7ty5Q61bt6Zu3brRb7/9RjNmzKA0adJE3ZcDywhg0xJOI7H2fPToUUM788MsKuJ5BIU9DaPQ8FC6+/gu3Xh0Q3HI4xB6FPFI3Ue6uFDMseaIP6a41Gv0vKaxBt9frtrnMDpGsgfigScIDaEaNWoor7l4CWbOnNkDrTBWlXCU+fnnn9OyZcvo559/VsI3Xjzv1AGBQLj68CpdfcDMv8EPgun6o+t078m9SA6P/L3/5D491WxH8cNTCogfQKkTp6Y0idOo3/RJ0tMryV+hV1Iw82+OlDkod6rcFJDgZe2pNWvW0EcffaTGGpb7smTJYqwH74HWmo+1n376id59913y1rHmAXiiVSkCJBoc7jnJkycPYWC+9dZbMjB1Qn7q1Cm6efOmmnVky5ZNZy7XJoNAOBNyhs6GnKVz985F/oacoxthN5xaMWYpt8JuKbZWcMJ4CSlnqpyUL00+KpKuCJXMWJIC1wfS5599TmyASh9++KGMNWvgmV3fsmWLWrJiI1S1v5Y9e3azu3IYEwHv/ISL2Ur75+LO3T5GkiIOCDwIf0DH7xyno7eOKj52+xgFPQiyWWLiBIkjZwo8S8iSPAulTZL2v5lEotSUKnEqSpowKSWMn1DNMvALBoU/C4/ih08f/jd7YaEFYRL8MJiuPbymZjf3wy17+taeaJQ9XnaqUbIGVc1WlcpnLk/JApLZbLO/31y+fDldvnyZunbt6nGBawQ1XhEg/v4XI/23iABe0vuv71e87/o+OnP3DAenfnkvIn68+JQzZU7Kmzov5U3DzL9YTsqaIiulS5LOLS+hO4/vqNkPZkNo55FbR+jU3VP0THsWrW9YCiubqSzVylmL6uaqS5mSZYp2X068CwERIO57Hl45A4HTQ2yAwgmikD4EIiIiKH78+JQgQQJ9GZyU6mHEQ9p9dTftCNpBe6/vpfP3zr9UcoJ4CSh/mvxUPENxKpq+qPrFkhFmGt5G2Ic5dusYHbp5iHYF76IDNw7Q0+f/7bfEo3hUJlMZqp+7PjXM01DNjrytD/7eHhEg7hsBXiVA2OEh/fDDDzR48GAV+hPTYSH7CMCLKVQmsenbuXNn+xnikAKC/XTIaSUwtgdtf+kFi6KTBySn0plKq6WfcpnLUeF0hdWSUxyqdXpWjDXscbRo0YJy5cpltXxodGEmtfXKVtpwcQPdfnw7Ki1mJq/nfJ1aFGxBFbJUcMusKapyDx3A9ipr1qxe3VcRIO4bHF4jQM6ePUvt2rUj6I/DR06lSpXch4JBa4Jh28SJE+mrr76iLl260NChQylJkiRO7w02o/de26teoHiRQjPKnBLFT6ReoJWzVlZCo1C6QlF7EubpvOXYfKwtXLhQ90z32fNnSmCuvbCWwCFPQqK6lCtVLmpbtC29me9NSpLQ+c8gqiIPHZiPNQRlK126tIdaYr9aESD2MXJWCo8LEHzRTpkyhb744gtC3InvvvuO2AW7s/rns+VcunRJaQidO3dO2cKw52Gn9hWb0VjCWX9xPW26vIlibjhj/6Jatmpqkxlf39jU9nZy5lgDPhsvbaQ/T/1Je67tieo69m/aFGlD7xR6R238R90w8IGrx5qzoREB4mxErZfncQGCQE/169enSZMmUd26da23VO5EIbBnzx6qV68etWzZksaMGUPO8i0U8SyCsCy15sIa2nJlC2F/w0TY9MZyVJ2cdei1bK8p1VfTPSP8Xr16lTp06KCCik2dOlXh56x2X7x/kWYFzqKlZ5bSk2dPVLEpAlLQh8U/pPeLvG9YDS4I3NmzZyujXSz1YaylSoVXhneTCBD3PR+PCxB0lWNPUMKEYlqj97FzACNC9DsIkbgSXhKHbx2mFWdXvLQsAxuJSq9UotdzvU61ctSi9EnTx7U6j+WHYSCWRrHklzZtWpe0A1pdc4/PpXkn5kXN2GC82LlUZ2pesLlSOXZJxS4qFPuR33//vfL40KRJExfV4vxiRYA4H1NrJXqFALHWOLnuOgQuh16mledW0qpzqwhf0CaC0KiSrYrSMqqRvYbPLMOY+ueOX9i+zAicQTOOzVDuVlBnntR56OtKXyuB7I42OKOOW7duKW3IjBkzOqM4t5UhAsRtUJNbBQi+dsW1gfsebsyasLwCTSKs20OzyJyKpy9Ob+R7Q6mmYh1fKO4IwCZm8uHJtPDkwijXK43yNKLe5XtTxmTGeinHHQ33lSACxH1Yu0WAPHz4kL788kvlT4hDWbqvdwavCe4hoDJZoECBOPUELkMgNFacW6Ess02FZUuRjRrnbUxv5H1DfSGbrhv5F8t70ETzpg8VuGsZ/s9w2n1tt4IW+yN9KvShZvmbeVU7jfzczdtuBAEi3njNn5iN43/++YfKlCmjNi/btGljI6XcMiEAL6a9e/emxo0bK9xM1x35ffz0MS0/u5zarm5Lby17i2Yfn62EB1Ru8RU8tf5U+uvtv6hbmW4+Izww1mB8Crca3kSwsp9Sbwp999p3lCFpBnoQ8YAG7hxI3f7uZtNPlzv6gLGGELNYrhISBBxFADMQDUHonU1PnjzRvv76a41VcjXeiNN4o9zZVfhkefv379eKFi2qVaxYUWMDQYf7yJ5stbH7xmrV5lXTik8vHsVvLnlTm3lspnY37K7DZXp7BiONNfYkrH297euo54LntP7Ceo9AbBprFSpU0M6fP++RNriiUrzP8F5jxvtNyIUIuESAsFM1jQ2NNP4a1NgtiSvGiM+Vya5INDYE1JImTaoNGTJEw7leYiMvbe/VvVrPTT21UjNKRb2cys0qp3217SvtwPUDGtL4IrGrdUOOtQ0XNmivzXst6lmN3D1SC38a7pZHFJex5pYGxrESESAulBgxinaJAOFpsTZ27FgNX4ZC+hDYtWuXmnns3btXXwZOxctU2qJTi7S3l70d9SLCrKPuwrrab4d/88nZhjk4K1euVAKXIyxqGHNGo5uPbmpdN3SNenbvr3pfu/bgmku7gVktZrccYVHbt2+fS+vyVOFGECDijTeGJJLTuCMA/0x6nCEinsYfJ/+gOcfnRPPNBIvw9wq/RzVz1PRqVyJxRyqyBEQMPHnyJFWuXNlZRbq9nOfac5p6dCpNODiBcAwNuNE1RivXMK5oDAwDDxw4QMOGDSOe7bqiCo+XaYRNdBEgHh8m/tcAROiDxfOi04ui7AuwKd4kXxN6t/C7BB9UQsZE4J+r/1DfrX0JxoiIbTKkyhD1XI3ZG8+2WgSI+/DHEhbP+O7FykXBtWvX6MGDB5Q/f373tdjgNfG0XvXAETXTk3dO0rRj02jN+TVRsSpSJUqlhAYEh5EtxA3+OJ3afAS66v53dxWACwV3Ld2VOpfsLKq+DqJsBAHi92q8ixYtohIlSihfOQ4+X79NDlXJVq1a0eTJk+1iAEEDD7ifrP+EWqxooSzGEegoa/Ks9L+K/6P1LdbTZ2U+8wvhsWTJEsLHiq8Toi9ObzCdqmePdIz586Gfqf+O/gRvyI4SbK+EvBcBvxUgISEh9MEHH1CnTp2UX6FBgwZ571PyopatWrVKCVz4/WrWrJnVlkFw7AzeSe3XtKeP1n6kjpEY8bphR7Dq7VXK26s/hFjFWEOck48//ljtdVgFzYdu4LmOrzVeefNFt2DL03tzbxWmV283MdawKgC7GCFBwJUIOKSFtX79ei179uxaw4YNNQ4s4yklC0PVy9NprWPHjhp7MdWmT59uVZ0WarZbLm/R3lv5XpRWDjSqOqzpoO0M2mk1n6HAcKCx/j7WMB6gSWey5eGZqBYWEWYTQb1jzWYhPnDTCFpYrnypu7Ns3QLkwoULWpo0aTR2u+53L7PY/k0dO3ZMy5Mnj1arVi0N+FkivCg2XtyotVrRKuplgZcGXhgHrx+0lMWnr/HSi9atWzctRYoUMtb4Sc8OnB01Lj5a85H2MPyhxee/detWu2PNYkYfvCgCxH0iRLcAwTjjJQUfHG6u6xIGMgQuq+e+VAlHt9PWXVinNV/WPOoFAcHx2YbPtCM3j7yU3l8usBsSrUqVKtrp06f9pct2+8nOGLUS00uocdJ+dfuXZiIc30R5fOAQvRbHmt0KfCyBEQSIqPG6T8j5VE38t0rbgrbRxIMTo7Rt0EHE1u5UshMVSV/Ep/obm87wrIzix/fbbUaLkCFey9fbv2b/HBrBzf7YWmOj4otcuXKFQkNDiY0DLeb1t4u+poU1mB9gEHMo82bmYsy2qD3fPMz8gBmqJ+OYzakFnxxnhprFMeaYO7Kb+RrCot1nRp347cws5GEEoFXVbk07+nTjp1HCo37u+rT4zcXqhSDCI/IBifB4eaDC1uebypGerBEtsv/2/srwECl5X1KEx8uQefUVveHz+nAv2jMjVutZ5oHMa5kLMj9ijklf8IWuzB8wQ4UiMbO5dVglPp/F/C7zCuamzHOYqzEfYAbB0GAkM+pyiPDlN378eGUN3b17d4fy+nNihOWFC3H8IVsiXpKiHw/+SDAWM1HN7DWVGq6/Gv9hJuaILYwJN3/+bVmwJbEzRhp3YBz9df4vSpkopQpSJTgab1TonV934a6NYg5kxqwAnxABzDFnDXyJUjIPYu7GvJP5OXMY8yFmE33CB38xL2V+xryYeQ0z6jEnh5fYLl68SHXq1KEJEyZQ2bJlzcuSYysI4CX4yy+/KHf1f/2FxxKdTt09pQzD3vvrvSjhgRCxsxvNpgl1Jvit5TgrFFDt2rVp6VIMYyE9CGCsTZs2jVrmakkdindQWRacXKCiHurJL2m8CwE9AgQb1LmZ95o1HS99CIQyZtdMh1X4IBlzYeZTzNeYVzOXZDZRaT7YYzp58YvyY5YHgXKbGYJrBHNyZqs0Z84cKlmyJBUsWJD+/fdfqlYNExohWwiwGjOxOjONGDGCli1bpuxiTOkv3b9EX279klosb0GbLm9Sl0tmLEm/1ftNcamMpUxJ/erX9BJEzI5ChQrR66+/7lf9j21nTWNt4MCBBOH7ednP6a38b6nixuwfQ5suRY6x2JYv+bwTAaxnYBZRKEbz5vO5JVNkRFtC+i3MWZgTM49kDmbG7AR0hvkTdfTff535EALHRK/yQZoXJyX49wDzvBfnMX8g5LRMmTJpbHzEf99CehCYO3euljZtWo2N3LS7d/+Lr3E77LbGkee00jNKR2lWQctq86XNfq/6zJbk2ptvvqllyZJFxpqeQfYijflYM9eChOt3aGRBc6/C7Ara8dvHHSjVt5Oyxwcs44PxfjMsofEQCNi3MCfsgYw2v/DiuAn/In09s3uY6WCzvP6LaxAGfV8cm3768UH0ANemO5G/1fknnBkCKSYpAdKhQwetZ8+eitesWePboyuOvYML7AwZMmjsyiWqpEcRj7Qph6dor855NUpwNF7cWFt9frUGdV1/p+3bt2sZM2bUWrZsqeGPW8g+AsDpnXfeeWmsmedEcLBGixqpMVfnjzrajYc3zG/71THeW3iHNWnSRNkQ8YvO8AIEL+tzzJ/h4AUl4N8bzJZiu5pmLOYCBOnNBchUPv+T2ZwW88kU8wsxjk0CJEmM6zhVAgR600L6EYDFL+jps6faktNLtNp/1I4SHNXnV9fmHZ+nhT9zT3Ag/a32XErMPubNm+f3szBHnsCUKVPUyxDY2aJzIee0ynMrq/HXbnU7LeKZ/kBktso14j12Ua+MnYEdv9u8WoDo3aTuzR2BAGnMDGEygPl95kLMj5hj0iK+kJ65FfM95oHM0MiCgjfUejGb2cQMLaxVzNDCmsn8GjNmJ5mYsR+yjRnlF2OeznyBuSVzTIIAYfkRO2+8MQvzl3P+41I+qrD+jI1yUJIESahtsbb0YbEPKUWiFP4ChfTTRQhgjIH0aFjtCNpBXTZ04TemRh8V/4h6luvpolZ5d7EmbUh2G0SpU6dGY/EfzBi8jvQKEDR8EPMnzNjH2Mf8KfMx5hzMgcwNmHcwg/DmGcf8NjM23PcyQwghnYma88G3zLmYLzB/xbyUGZSTeSFzQWbMXq4xQyghPWYyMUkESExE7JzzWjNBcJhUcuPHi682NLuW6kqZk2e2k1tuCwKuQeCnQz/RpH8nqcIn1p5INXLUcE1FBijVCIaEjggQb4ZcBIiFp8OheAlehmHZC2+wIA4/qmw5lp1Zpr70cO21bK+pr70CaQvg1O+J94cob968lC5dOr/HQi8AzrK657026ryhs/qwgX3IH2/8QdlTYlXc/8gIAkSPGq//PTkf6PHhw4eJY0bT2rVrlT3Mk2dP6Lcjv9EbS96gpWeWKuEB1+pQyf359Z9JhAdRREQEDR48mKpXr07s1M8HRoF7uoCxVq5cOdq5c2ecK0wQPwGNfG0kZUqaiULDQ6nvtr709PnTOJfrbQVgrE2cOJHwkWdkEgFi5Kdnoe2IR/7dd9/Rq6++SqxuSrt27aLgFMHUdGlTGn9gPD16+ogyJs1I31b9lua/MZ9gEChEdOLECWLnh7Rw4ULasWMHvfVWpH2CYGMdAfOxxlpDVL58eeuJHbiDyJTf1/ie4vG/wzcPq1jrDmT3+qSmscYOSv0iwJjXPxBuIJawNH/Xwrp06ZJWtWpVrUCBAhoLDqVTb9Kxh5592ZlltfH7x1t1pW1EjZW4thkehuH9NVmyZFrv3r21sDDbsSriWp+v5OeN3qixxgGfXNKtMfvGKK0s2CMdu3XMJXW4s1CMNXaxpCVPnlzXWMP7DO+1F+83/hFyFQIiQPgvATr3ffv21S7cvKAN3DEwynU2hEevTb20K6FX3Pn3Yoi6Vq5cqeXOnVvbsmWLIdrrDY1kjwXKRuGzzz7TEPfEVfTk6RPt7WVvKyHSdElT7fHTx66qyuXlsosljd3eODTWjCBAZBPdVSLNA+Wy7jzNOT6HJh2eRA8jIpXVsM/xZYUvqXwW5ywveKBbLq2S3xz06NEj4q9Cl9bjS4WfPXuWwPXqmZt6uaaHUC9vvbK1iqfetmhb6lOhj2sqcnGpw4cPp3PnztGYMWMI6rl6yAib6CJA9DxJA6RB/PERu0fQhfsXVGvTJUmnfA01zdeUsDEpJAgYFYFpR6cplXOoms9tNJeKZShmuK7gQ0WPLYx5x0SAmKPh2mO/UuNlv1WEDUx2RUJXH1ylUftG0fqL6xXCCeMnpA+KfKCCOokhoGsHnZTuHgSg2gtP0IG3Awkz6rmN5xLGua+TEQSIaGEZbBSuW7eOSpQoQb9M+oXYbxU1XdY0SnhUfqWyCurUq3wvsSI3e674Q2Q/aWTJVb1ZMjmMgcCmTZvU8l6My24/xQx6YOWBhBnI8TvH1TKt2xuhs0J82PkTiQAxyNPmzUr69NNPqXnz5vRed47LUfQfZRAY9jSMsiTPQmNqjqFf6/5KeVLnMUiP3NNM3hxXLv4RJwaCV8g+Aqax1rRpUzp48KD9DG5IUTR9UWpTJNL1HqzVgx8Eu6FWx6rAWIPRLtR0/YVEgBjgSbOapAr2tO/gPnr7l7dpdebVdCn0kool3bFER1rWdBnVzVXX4TVWA3Q91k18/PgxffHFF9SoUSP1i5lbjhzwuiNkCwGMtdKlSxOMAw8dOkSsFm4ruVvvfVb6M/WxhI8m7Pd5C5nGWuPGjQkRUBGPyF9IBIiXP+mjR4+qCIvFGxenp52f0oFnB1SLq2WrRkuaLqHuZbtTsgDE7xIyIRAYGKgso7dt20b79++nbt26kcQnN6Fj+Tc8PJz69++vIix26tSJNm/erNy5WE7tmasY519VhMs8os1XNitHoJ5pyX+1HjhwINpYY9VmvxprIkD+GwteeRSSNoQq/FCBTpc+TeFaOGVLkY3G1xpPP9f5mXKlgh9KoZgIpEiRgtq0aaNcaxQuXDjmbTm3gMDMmTOJbWJo9+7d1KdPH0qQwDs192rmqElVslZRPRi1d5RH3Zz89ttvKuopxztRYw3RKf2NRI3XS584nB5+t/c7WnsBcbuIEsVPRB+V+EjFkU6S0FJIFC/tiDTLEAhg8/fp06eUOHFir2/v6bunqcWKFvRce04DKg+glgVbeqTNCJsNn1bOcuESsxNG0MISARLzqXn4HCqLf5z6g3488CM9iEDoFKKqWavS15W+phypZA3fw49HqvcSBIbuGqr+TmDvtKrZKp/UOjSCAPF9ZWovGfC2mgEjo6lTp1JYojDakXYHHb19VCXPkDQD9a3Ql+rnri8b5BYAvHLligq4kzIlQtQI+RMCn5b5lP46/xfdeXyHphyZ4rfBpzz9zGUPxMNPgEN9UuM3GlOvfr1ozNExSnjAC2nrQq1p+VvLqUGeBiI8YjwjCNw5c+YotVyO6R7jrpxaQwBjrVmzZgRNK6MTZh6dSnZS3YD7nhuPEGHb+YSxtmLFCrW85/zSjV+iCBAPPkO8/AoVLUQHQg5Q1oFZKXnR5FQ4XWGa02gOff3q14SAOkLREWCHkdSqVSvq2bMnTZ8+ndq3bx89gZxZRABjDXYwSZMm9Rk10/eKvKfihphi3VjseBwumsYajFBPnz4dh5J8N6sIEA8825CQEGr5Xktq82EbSvVOKsrYKSOlTJOSepfvTfMaz6MSGcXgzdJjWbVqlXoJYrMX6s0wdBOyjQDGGqJRQjUXAYzmzp3rM5EWEydITB1LdlQA/HnqT+XWxzYa+u/GHGswEBTyXQQM486dPeZq4zaN09K9mk4rNLaQclXdfWN3LTg0mGfLQtYQ2Lhxo8ZeTDWedWgcPtVaMrluhgAHxtLYeFJr0KCBFhQUZHbHdw7h8r3uwrrq72jQzkFx7hhvXGsdO3b0irEm7tzdJ7AM4Uzx2O1jxIOcTtyJdHUAFyQwjKqVs5b7kDJoTYi5jTX8rFmzGrQH7m82Zmnbt2+nTz75xKf30RadWkSDdg2ihPES0vJmyylHythrKw4bNoz4Y4WmTZtGuXJ51s7KCFpYosbrhr9ruF745dAvNCNwhtJdTxAvAb1f5H3qWrqrWJG7AX+pwrcRiHgeQW8ueZOuPLhCzfI3oyFVh8S6w7DIT5gwoVdYkxtBgMgeSKyHmv2MMDLadGYTNV/enKYdm6aEh8kdde8KvUV42IdQUggCdhEIiB9An5T6RKVbcW4FXX943W4eawkSJUrkFcLDWvu87boIEBc9kd2HdlPO4jmpVY9WdDn0MmHDr2e5niqWATyLCr2MADbHR4wYofwwvXxXrlhD4OTJk4QvZ3+mxnkaU6ZkmZRrE6j1CrkHAREgTsYZLiE6f9OZqrxahZ7mf0qZ3spEFbNUVHE6Pir+kV8EwokNpFCTrF69Os2YMYPEMFAfgtgXGjt2LJUtW5b+/vtvfZl8NFVAggBCyFsQPDmEhoda7emZM2eUg1IIXqG4ISACJG74Rcu97/g+ylUuF039dSrl+iIXFWhTgIZUH0K/1fuNcqbKGS2tnEQiwGoz9Msvvyh39RUrVlTxJ8qVKyfw2EEA8U3q1KmjVHPXrl1LrGllJ4fv325eoDmlDEhJDyMe0sJTC1/qMMbapEmT1FiDTUzOnPI3+RJIfnrBo2q87L9KG792vJYgaQItbc20WpFJRbSem3pqNx7eiLNaoS8XANXS+vXrK1VTqOkK2UcAKsysIaTUTFm7SgsNDbWfyY9SjN03Vqn01lpQS4OKr4nY7Y3hxpoR1HhlBhJHiXvh3gXqsLYDTQ6eTLl656LSXUrThAYTVITAjMkyxrF0386OyHfZs2dXwYtq167t2511Uu9gCNivXz+aN2+e+pqG63qh/xBA1EJsqt8Mu0mrz69WN+CKBDOOzJkz05EjR1TMk/9yyFFcEBA13liiB9XBGcdmKPXc8OeRG5iYQiMeeapEmBAJCQLORwCafVDvTJ8+vfML95ES+2/vT8vOLqMSGUoopRU2qKTr16/T22+/bageGkGNV7zxxmJInbxzkr7Z8Q0dv3Nc5c6ZMicNrDyQKr5SMRalSRZBQD8CAQEBIjzswNW6cGslQI7cOkLHbh3zqrC8dppuuNuyhOXAI2M3JNRjSg9q/H1jJTxgEAjNqkVvLhLhYQPHBw8eUFhYmI0UcksQcB4CxTMUp2Lpi6kCF5xc4LyCpaSXEBAB8hIkli8cvHKQijYrShO6TaDHdx5T/jT5aU7jOcq2QyIEWsYMV3fu3EmlS5cmhP8U0ocAhO0XX3xBiHgnpB+BQ4cOEVSbQe8Uekf9ImbIvSf31LH853wERIDYwTT8WTj1mdOHKlesTEGBQVRoSCHq17Uf/fHGH1FfOXaK8MvbT548UZu9devWpa5du9Knn37qlzg42ul9+/Ypuw4I3uTJkzua3S/Tm8Za1apVCUIEhDg62IuEq/dlZ5b5JS7Saf0IuESN92DwQa1w68JavETxtEzNM2nNFjfTAm8FmjQD5dcKAvzlrJUsWVIrU6aMxg79rKSSy+YIsCW5NmjQII3jdWjs0E/jzXLz23JsBQHzscYaVtFSfb/ne6XS23hxY0N6cDaCGq/+V7R3p3SqAIH++Pj947UiY4poSfMn1QoOKaj9fOhnLfxpeLQBKicvI7Br1y4tWbJk2jfffKPxl+HLCeTKSwicOHFCq1ChglasWDHtwIEDL92XCy8jwG5vtO+++06Ntf79+1sca+dDzisBUnx6ce3g9YMvF+LlV4wgQEQLK4ZgPHLziNKwOnvvLCVIl4Aa/9CYvq32LRVKVyhGSjm1hED58uUJapPY9xDShwDUNWvUqEFDhw6lJEmS6Mvk56nGjBmj9tXgwqVSpUoW0cidOjeVzFiSDt88TMvPLqfSmWRMWgQqDhfFDuQFeFgr/enQT8q247n2XPms6lKqC31Y/ENlmBQHjCWrICAIOBkBGKHGixePeLZrs+QFJxbQt7u/VeGhN7XapJya2szgRTeNYAcim+g8YA7dOETNl7DL9aORLtfhLReb5J1KdhLh4UV/UNIUQcCEABQM7AkPpMVmOizT4Vxxy+Utpuzy6yQE/FqAYNYxZP0QqtGoBu3+fbcaaJ+X/ZzmNJpDBdIWcBLEvlnMwoULae/evb7ZORf16tatWwSX9ULuQyB14tRUM0dNVSGWsYSci4DfChCEl63+TXUa0mIIES/kVf+gOi1sspA+LvGxuFy3Mcbu3r1Lbdq0oS5duhBeiEL6EFi+fDnxJjktXbpUXwZJRRhrH3/8MV24cCFOaDTJ20Tl3x60nW6FyZiNE5gxMvudAIEPqx+2/0DV365O+8bto+zvZqfRv4+mBa0XUL40+WLAI6fmCKxbt045pWPtEOWUrmHDhua35dgCAljH7tChA7Vt25Z++OEHat68uYVUcikmAqaxdvXq1TgrFlTLXo3SJk5Lz7RntOHihphVybkgQLrUeE/dOaU1/r2xFpA+QEteNLnW6PdGGvu18nJlPs83j12RaGwMqHGgJ23KlCmG1Kn3BIqbN2/WcufOrXHcDu3SpUueaILh6jQfa5MnT3baWBu4Y6BS6e2wpoNhMBE1Xi+RbByvg2YEzqCJBydSeLxwyto6K/X6sBd1Kd2FEMlMyDYC586dI0Rvg5Vv3rx5bSeWuwoBLFm99957NHLkSGWJHz++3032HR4Je/bsoffff1+5XXf2WKuXqx4tOr2I9l7fS3ce36F0SdI53D7J8DICPq/Ge/H+RYJ750M3I10c5E2dl4ZVG0ZwuCYkCLgKAfizunz5MhUsWNBVVfhcuYisePjwYerVqxclSJDAqf3D0nXNBTXpfvh9GlR5EDUv6P1Lib6mxjuYn2gQcyjzZuZizLaoPd88zPyA+RrzOGZzasEn8If+kPkYczNmc0rDJ3OYQ5jvMM9iTs2si2DLMff4XGqxvIUSHvF4p7xd0Xa04I0FIjx0ISiJ4oIAuyQR4eEggBydkvr06eN04YFmQJW3Vo5aqkXrL653sGWS3BoCeufVfbiA9sx1mTMw72Rey2zNiucLvvcNc2dm7E/kYZ7ObCKYjkIg9GPGfaSFsCjLbCKcI6Qf8uZnzsI8g9kuXX1wlVpNbUUDFgygx88eU/YU2Wlag2nUu0JvEs+51uF79uyZqJlah0fuGByBurnw+iLafXW3eOh10rPUK0C6cH2jmAOZnzDjhR/AHHPWwJcoJfMg5m7MEDTwrxzGHLmGxAdMnzD/xbyU+RnzYuY1zKgHlIsZKj69mO8yYwYCofQmc3Zmi8S7Y7To5CKq/FllWvLpEnpw/IFy64x4HeUyl7OYRy5GInD+/HmqVasWjRs3TiDRiQBch//000906tQpnTkkGRAIDg4m/K26mypnrUzJA5LTU+0pbb682d3V+2R9egQIZgi5mc2txvDSh0AowxyTqvAFzEwKM+MvC8tXq5lLMpuoNB/sMZ28+EX5pvJw/zHz0Rf38IPlMMSOxT2L1GVRF2rXvB0FrwymUv8rRYvHLKb+r/anZAHWJkoWi/Gri/hD/v3336lUqVJUvHhxZd/hVwDEsrNXrlwhLLmMGjWKQkJCYlmKf2XDWENcmMKFC6s4Me7ufaIEiah69uqq2q1Xtrq7ep+sT68AQedj/pVgZgDhEpOwxBWPuSkznhZmE/8yY4aB2QkI+WyVh3T3kDAGIY+lOlWy+Z/Np4C0AdRtdjfa/NVmqpINskzIGgLXrl2jN998kwYMGECwLP/5558lBoU1sF5cx0twzpw5yh4mR44catO3YkUJZWwHNjKNtYEDB9Iff/zhsTCzr2V7TTV119Vd9PS5eAWw99zs3dcjQO6/KCRNjMLS8rnpnvkt07VhfBGzDyx5fcWMDXDTGx1pbJWH+0gfk5DHVH7Me5S3TV76c86f9EODH1QwmZcSyIUoBDh2gppxpEiRQhkF4mtayDYCsLxv1aoV9ezZk6ZPn05Tp06lVKmsfs/YLsyP7i5atEgJXLYjUmOtQYMGHut9layRryD4xoKXXm8ljLX//e9/3tq8qHbpFSAXOEeFqFxE0LHDctNBs2umQ0vXMCMxp0N8Yl4e7uHclBf3EzOb69qW4nPsu+CeRQqeE0wTuk9QaoBQCRSyjkChQoVo2rRpNG/ePEqXLp31hHInCoHAwEAVMpWDZFHTpk2jrsuBdQTYGJA6depEEydOpLlz53p8rKVPmj4qkihcm3gb4b319ttvU65cuWjNGiza+Ab15m5cYIbqblLmEcyXma1tLizie5uZMzFDEAxnRvoUzCBoYT1ixl8hYpI0Z37IXJbZRCv4AAimZ8ayGHTvljBbInwGar/88ovGX4Rax44dNdah5tUGIUFAEPAkAnfu3NGCgoI82YSX6p5wYIKySm+5vOVL97zhwoIFCzSe4Wq8twZNA7DXTnP1zEDwwh7NPJ0ZjmRuMldmxjwUQiAHcyhzVWYTteODM8wnmK8wl2auz/yAGbSb+QPmkcxYkhrK3Ib5ALOJcP8W81nm08xXmVGuVYLlLwyRzpw5ozaFt23bZjWt3BAEBAHXI5A2bVrKmjWr6ytyoIZq2aqp1MfvHPdK54pYJm3Xrp2Kd+JAtzySNObSkkca4YRKIaHZdcw9tSYN9coff/yR4D6ie/fuTijeuEXAPQT2OYoWLWrcTri55RyKlwICAtT4cXPVUp0bEIBro+oLqiur9KFVh9Jb+d9yQ62OV+FrluiOI+ChHBAcPXr08GvhERERobSratasSfv27fPQkzBetfDBhLC8WK8X0ocAxtq3335L8JxrBEoQPwG9+sqrqql7rsa0JnBfD+DqxuikdwnL6P30q/Zjs/fVV19VsSd27dqlXIn7FQCx6CwCPQ0fPpyqVKmiXK6/8847sSjF/7KYxhpUc/HFbBSqkCVSh2f/9f1ub7JprEGR5fRprM4bl/xSgGCpyxcJS3djx46lChUqUN26dVXEQBgICtlGAHtm1atXp5kzZ9KWLVto0KBBagnLdi7/vmtprOGFaBQqn7m8amrww2AKfhDstmZDYJiPtQIFCritbqnIOgLYA9HgP98ecXQzLXXq1Epji/8I7CU31P1///1X4wGpsfKAodrtycZu2rRJ4z0ijffKtIcPH3qyKYapG39DNWrU0PLkyWPYscb7IFq1edWUNtayM8tcjj3eNWyoq3Esd+3zzz/XHj16ZLdOvM/wXmPG+03IhQjoFiB4auvXr9eyZ8+usUGT16kY2h1VdhLwerSdFHLbHAGoe0OICOlHgA0DNbbtMLyq/Od/f64EyDfbv9Hf+VimZG8P6p2zYcMG3SUYQYD4pBaWHkEF/0XQ0Fq5ciWx/QjJmrce1CSNIOA7CMwOnE3f7f2OcqTMQX+9/ZdLO3b9+nVKnDgxpUmTRnc9ooWlGyr3J8SDxJo3nLt99tlnBB89RiL+jDFSc6WtgoDXIVA+S+Q+yOXQy3T94XWXti9z5swOCQ+XNsaJhfvlJro5fnAbANcUH3wAu0XvJygAtG/fnsaMGeP9jfWiFq5evZo4LrkXtcj7m8Lr9N7fyDi0sGDagpQyINK/68GbB+NQkv9m9XsBgkePr4P8+fN7/SjgtXoqWbKk0rdv3bq117fXGxr44MED6ty5s1qiPHbsmDc0yRBt+Pvvv5XbdV6zN0R7Y9PI+PHiU7EM8M7EgY5uBcamiGh5MNbgABEfef5CIkAM8KQRXxseYJs0aUJ9+/ZVTtayZctmgJZ7tok7d+6k0qVL0/Hjx4k11KhhQ8QoE7KFAMYajHDh5h8vwzp16thKbvh7xdJHCpCjt4/GqS87duxQ7pNgd8XafHEqy0iZRYDYeFpwaQG7ivDwcBupXHvr3LlzVK5cOfrnn3/o4MGD1LVrV0P4yHEtKrZLx3Pr16+fsoXp0qULYebGKqe2M8ld5bGgbNmyaqwdOHDAL8Za8QzF1ZMPvM2eljUET3WMTGOtXr16Ci+MNW/z/eVYj/wztUNqvHr16NjVgFamTBmNjfE0dtKoN5tT08E2YcKECZqo5+qHdePGjRq/CDXe29Kfyc9TwgNs0qRJNXZJ4ldj7eqDq0qVt/j04trZkLMOjQLYXfGSsnpHcHwdh/LqSWwENV6ZgdgQuGwror7GsHQE1yDff/89PXv2zEYO599KliyZ0hJLmBBe74X0IFC7dm2CE8lixSKXJ/Tk8fc08JmGZZivv/6a/GmsZU6WmdIliYyHc+yWY3tku3fvVkt9WB1AOGh/JL+1A3H0YWOQtG3bVm24z5gxg/LmzetoEZJeEBAEvBCBTzd+SoiR3qZIG/pfxf95TQvFDsRrHkXcG4IZCPYg4FsKMbGdTVAxPX/+vLOL9enyeBmAwEKCQFwQKJ4+cvZw9FbcNtLj0gaj5pUlLAeeHPuxUaE5+/fv70Au20nxApw1a5ZSz0XsaCF9CMB1+BtvvOESYa6vBcZLhbEGN/W3b982XuNd2OJC6SKdQJ4JOWPxgwTquUKWERABYhkXm1fjxXPOyt/NmzepRYsW1Lt3byVE8CtkH4GFCxeqNWdEu2vcuLH9DJKCTGMN6uBnzyLIp5AJgfxpIm3AHkY8pOuPolukw0197ty5iTfJTcnl1wwBESBmYMT1EH7+9dLy5cujNt5gCY+NeiHbCNy9e5fatGmjDAMnTZpEs2fPJggRIdsIxBxrFStWtJ3Bz+5mS5GNEidIrHqNWQiIY7kTQmRDDRy+8kqUKKGuy3/RERABEh2PWJ8hpkTBggWJPf3aLePEiRPKHckPP/xAf/75J2XMmNFuHn9PALsE/BHDyhcCt2XLlv4Oid3+YxO2Q4cOSvlDxpp1uBChME/qSDshVuWldevWqbEG/GSsWcfNl+64xA6E14x1E/z9T548WcWW+PTTTzVeN7WZFzreQvoR4HV7bdq0aZqvxXDRj4DjKefNm6exJbnGChqOZ/azHH239lX2IPV71NdSpkypTZkyxeNjzQh2IM5ZzPe8KIIAYbzvUapUOPQcwXK8Xbt2BPfN8PYL7S0hQcATCLAMUJvC8ePLQoM9/KccnkI/HvyR8j7LS2NrjvUKNX1R47X31HzwPuxDNm/eTB07dlR+hDgKmQ/2UrpkBASg7CHCQ9+Typcmn0p4Pcl1cXujDzKVSsybHQBLb9IECRIo54cXL15UnnP15pN0pNacM2TIQFmyZBE4dCLAy3oiKHRiZS1ZTE2sLMll/FnDyvy6zG3N0XDS8alTp6hatWoEl9hNmzZ1Uqm+XQxcxIwePZqgIcS+rHy7s07sHcZalSpV1MavE4v16aIw1qDFZ+4195UUrxDcu4OCHgT5dP+d2TkRIE5EE1+CP/30E8GjKf6o9+/fT+XLl3diDb5ZFCzw4b8Kf9SIPwFVXSHbCMQca6+99prtDHJXIYCxVqtWLfWxEhT0n6AIiB9A8IsFCn4QrH7lP/sIiACxj5GuFNg0b9CggXK4uGLFChUxkL2bWswLe5ElS5ZYtHq1mMFHL2KT9/fff1fuYeD48NChQ0rw+mh3ndatK1eu6B5rTqvU4AWZjzU4PsRYg9q9OcEeBHTlwRXzy3JsAwERIDbAceQWhAWiBcJiFV84tghfQazqq5a3IHj8lbZt20YDBgwgWJZD2SBFihT+CoXufmOGBnsYeIrWM9Z0F+zDCa9du6a85toba1lTZFUoBIX+NzPxYVic0jURIE6BkZT6MNbw9agRFyhQQG0Ww7cWvoYWL17spFYYq5jq1avTyZMnqX79+sZquAdbW6hQIZo+fTpNnTpV11jzYFO9pmqOdUJs26EErq2xlj1FdtXm4IeyhKX34YkWll6knJwuXbp0xIZeNH/+fPr4449p6dKl9OOPP1KaNGmcXJN3FyezDseeT44cOQgspB+B7t2764rimS1l5BKWzED0YyszEP1YqZShoaHKSNDBbFaTt27dWs1G4Oxu3LhxVtPJDUFAEIgdAnqdn2ZNHrmEde3RNYp4HhG7yvwslwgQBx441uwRD8TZL3rEUP7rr79UNDgHmmOIpI8ePSJ8AcLnl5B+BBAdEJbIQvoRiGu0UNMmOmKj33x0U3/FfpxSBIiOh//kyRP68ssvleYLXobDhg3TkcuxJPhKCggIcCyTl6dGWFmOKa/UmUuXLu3lrfWO5j1+/FiNtXr16hFCpgrpQwBjDUosCPoWW0qfNH1U1tthEjMlCgwbByJAbICDW1D3gy0HjAL37dtHPXr0EKtfO5hFRETQwIEDlTbaRx99RFu3bqX8+SNjLtjJ6te3MdYqVKgQNdbq1q3r13jo6bz5WPvggw+UENGTz1KaRAkSUcqAlOrWncd3LCWRazEQEAESAxDzUzhGrFq1KjVv3px27dpFRYoUMb/tluPTp08TtJWOHz/ulvriWgmCFcGBJOxcdu7cSX379iW4dhGyjgDsgkaMGKFsYDw51qy30DvvBAYGRhtr//vf/+I81kyzEBEg+p65CBAbOMEx4rFjx2jQoEEeW17KmTMnVa5cWc2CsPcCC2RvJqgmI9Ts3r171X6RN7fVW9qGUMYzZsygLVu2eHSseQseetoB7UXM1jBLc+ZYS5cknar+9mNZwtLzHMSdux6UvCDN9u3bVWCgXLlyKTsA/Ar5BgL4KMA+mzXPBb7RS+f2ArMPRA2EzzlnUq/NvWj9xfX0fpH3qW/Fvs4s2uGyxJ27w5BJBmsI4A/l33//Ve4XsFmIr1Yh30AALtdFeDj2LIsWLep04YEWmGYgsoSl73mIISHjhOkw/ohbtWqlDzUPpYI17a+//qpcoOixeHdlM2/cuKGW9SQmuStRlrLdjUD6JJGaWLKEpQ95v94D4TCpBEO+bt26UZIkSfQh5gWpGjVq5JKvL71dwwY5XLDMmTNHbxa/T4ex9u6779KmTZv8HgtHAFi7dq1a3nMkT1zSpk2SVmUPeRwSl2L8Jq/fCpDVq1crp3QwdDt69KhytuY3Tz2WHUXI4Pbt2xNUc8ePH68cQsayKL/KZhpriD+BpRch+wiYxho+8LDf4S5KHpBcVfUg4oG7qjR0PX4nQB48eEBdunShd955RxkELlu2jDJnjowDYOgnyY3HZixsVVxBsIOBF9irV68qgYuvab0uIlzRHiOUibHWuXNnnxxrrsQfszTs85nGGoxR3UUpAiI9Qj+MeOiuKg1dj98JEFj63rp1iw4fPkwffvihT70EMZOqWbOmCqcbFhbmtIEJi+g333yToGe/Zs0aypYt0umc0yrwwYIOHDhAsL4/ceKET441VzwyjNmePXtSkyZNlP2QJ8ZaikQiQBx5tn63iY5424g/4YuErza8uNq2bauiIs6aNcspERERZhYvQsSgENKHAJQcEPPl888/F88F+iCjyZMn0z///KPckSDkgSfItIQFZ4rhz8IJ1ulC1hFwZAYymIsJYg5l3sxcjNkabeYbT5jhDQ7p8duZ2USwP+nDfJoZ9/5lbsxsTpv5xFYZ5mnl+AUCiLIGm5H3339fWbAPHjyY4O4hLoSlKhEejiEI1y34moZ2n5A+BLp27UpwWOop4YFWmgQIjmUfBCjYJr2jGy/79sxwzpOBeSfzWuZkzJZI44sjmVMxw7kMficxm6gHH3RlbsKcmnk4M6IqmXvcs1cGJ7dO8Mzpr95MEyZMqDz7QpD88ccfNGrUKOtAyR1BwEsQgDNRjF1PUuIEiaOqxwxEyDYCegVIFy4GbyGoQ2BW8A1zAHMzZmtky8r9Hc4EgXKCGYJiAfMeZtRjTrbKME8X7Rj+mGrUqOGT7tGjddTOSdmyZZUnXCyj2CNswCOgFdadhfQjAH9pztxv0l+zpHQFAgHx8VqLpIhncZu5m8rx5V89AgSzh9zMe82AeMbHh5htqUdAGMChDITOCObkzCayJBjQlrKmBC9+bZURIylLIk1T66jYvASPHIlJkH8T7Fvgn8oWXbp0SfkUGjt2rAr9aSut3ItEwDTWECAN8tcAAEAASURBVB8GsVyE9CFw+fJlgh0TvCp4I5nveYQ/lxmIvWekV4CgnJiWNXf5GoSLJerHFwsww6wTsw0Evf6N2URL+QBLWCWZMWdtw1yJ2bw8e2Vw8ujUokULGjJkiHLzMXHiRLsvzui5/e8ML8GZM2cqlUk4joRmGrwPC9lGAOqlcBiJsYZ49vCgK2QbAYw1KHVAFRxafBhv3kjRZiASldDuI9Kz4IhNblCayJ+o/9Py0ZWos+gH/5idHuHjHswbmLHAiCWw75kxV0SYunTMuDeP2XxU2SuDk0cnxBk/cuQIiXuN6LhYOoO21ltvvUVQa549e7Z6IVpKJ9eiI4A9JdgR4Staxlp0bKydIVzzJ598otz7e/tYizYDkT0Qa4806rpeAXKBc1Rg3v0iJwI8YPlq5otzvT+mpSssgQ15waa8+/lgpenExq+pjJeSZMyYkYYOHaqu169fn8BClhGAZpXJEBBfh0L2EYDRKTSF4I8Ms10h+whs2LCB2rRpQ6+99poyQIUavTdT/Hjxif8yeGNWo2caXlPuJbhuwTiDi/py5cq5t3IX1taby77AXIw5KfMI5svMyZhjUia+gDe36R7y7GVeyGwipMn34gTLXD8wX2DGrAakp4zIlJH/Y+lLY/cH/C4U0osAb5xrvISlpU6dWuvQoYPgZwc4DvykXb9+3U4quW2OAL8INV660jDWjELFpxfXwAevH3R7k1mAaFmzZtV4hqudP38eX3Zg86X9yDeel/wfX2c7RnO66cxYarrJXJm5AfMj5hzMocymxfMkfIzZRRAzlr+WMCNfe2YTZeUDzDZw/yRzFmbkx74KSE8ZkSnl/1gjgBkIwoBi74MHqwoABdVfIcsIILJipkz4thHSiwDCQcMmyTTb1ZvP39LBTxoMT7GfNmjQIFq5ciVhSd7bSc8SlqkPg/gAHJMwE0lpdvESH2ND3BYd4ptFbCTQU4aN7HLLhAD2OGATY0sTC1EP169fT1A8gP8mIUHAXxHgKUdU190l9BAuG94jsmTJorTTvFXBIAoYswO9MxCzLHJoFASwUY51VHjOtUewmO7evTs1aICJpf9SeHg49e/fn/bs2eO/IMSi5wj9jNjuRifsfbibYH3fqVMn2rx5s9dqp1nDRASINWQMfB1/yN9++62KGQKvw19++aWBe+O+psMZZaVKlWjFihWULJlpC8999RuxJtNYQ3xy+LEyOj3Xnkd1AZvp7iD8ffbp04ewRGo0EgFitCdmp70nT55Uthxz586lrVu30oABA+LsHgLT+itXrtip2bi3scQ3evRoJTwaNmyoZh8ImCVkGwGMNYRaxljDV7Sz45Pbrt01d83dl5i7NXFNbcYvVQSI8Z9hVA+wGY4lKxgD7t+/3ymeeFE4lnMKFy5MP/30k7L2j6rQBw4uXLhAtWrVokmTJql9oOHDh1PixIl9oGeu6wLc3mC/zHys+YrKqSsFiC/uL4oAcd3fmdtLxlcz1lHHjBlDSZNC29o5ZFrW+f7775VtjS/NRkJDQ5UlPlxrVKlSxTmA+XgpcLsOB53QFPrhhx+cOtY8Dd3jZ4+jmuCsGQhm8L/99hvlypWL4MpFyPsQEDsQN2ish4SEaBzSVkuTJo3G8dANpdvvBnj8pgp2HumzNkMX711UNiCwA7n16Facnym7vdHY7Y32yiuvaBza2KHyYNfGr1qfsAPxPpEhLXI7AmxwSNOmTVPco0cPtaTl9kZIhR5HAA46ETDLF8mZM5BFixYRVgVSpkyprPB9UcPRETsQXxwvhuzTqlWrCC9zT21awocWlnsQv8EoxLMnpVmVKFEiozRZ2ukBBB5FwDY6kpImjP0yMIwBJ0yYQD///DNBE9JXSfZADPRksV4PffH33nuP2KWGR1sOi2yjOK2EPyZ4geVlN49iZqTKMdZgGQ1NK3+i++FwjkGUIiAFJYgfe7Xa1q1bK2ebviw8gJMIEKBgAIKaJGJPnDlzRrkeERfi9h/ao0ePlHFks2bNVHAx3r+xn0lSKJVcjLXAwECf2iDX82hDw+GViZ1PJYrbEh20FtmnlZ4qDZ1GBIiXP74nT54oQ0CsnyKyIL6moc3hrXTt2jVle4J2e5KgemyKyHjw4EHq3Lmz+GOy80Dg9gZGbRhr8EqwceNGgpsbfyKTAEmZyNw7kz8h4FhfRYA4hpfbU0Ptb/fu3bRv3z4lQOByxJsJTuEQoQ+WyZ6KOvf3338r244PP/xQGVPmz5/fmyHzirbhWeGZATu4EoeShLePNVcAZ1rC0iNAIiIilCIJfv2VvPtt5K9PxazfePlt2bKFihSx5XvSLIOHD/Ply0dwDvf222+rjXaEFYaltzsJygWYgfTt29eQ7iHciZWpLlYZVc8Mz65o0aKmy373G/IkRPU5deLUNvuO5b1XX31VxYbx9H6kzYa6+KYIEBcD7I/FQzsLWiibNm1SKr/Vq1dXezfuwgKaVsWKIQyNkF4E8IwGDx5sKM06vX1zJN2tsFsqeYaklgNfwQp/7NixarZWt25dNVvLnj27I1X4VFpR4/WSx8kWRsqbqZFUY+1BV7FiRcL+Q79+/ejQoUMkS0n2EJP7nkbgdtht1QRLAuTixYsERYxLly4RIgd6So3e0xiZ1y8zEHM0PHQcFBSkYmwPGzbMQy1wXbXwagt38s4OAQuBO336dKUq6brW+17JWG7BV7SQZQRuhiFeHpElAQJ3JIUKFVJ7eyI8IvETARKJg8f+nz9/vrJRgF0FNi6F7CNw48YNgmouZja3b0d+MdrPJSkw1rCXtm7dOgHDCgKmJayMSTO+lGLIkCHK6WaKFCleuuevF0SAeOjJ37lzh2Bs1K1bN+VobcaMGcQ+pjzUGs9V66iH0qVLlyr3ENjnQPyOmjVreq7xBqk55ljzRZcazngUj58+JpMar6UZiLsiFDqjL+4qQwSIu5A2q+f06dPqJQhDN7wEobHkjwTtsoIFC9KaNWvsdh9aQlh/hmoulsQWLFhA6dOnt5vP3xMAW/hjwlg7cuSI3441PeMg+EGwSqY91+iVFK/oySJpfAQBQ3njZb1xbfHixX7vzZbX4rXff/9dY2dzGhv6aew+w6q3UlbL1Ro1aqSxK3mraeRGdATgMRnYAmNgLWQbgS2Xt2i5++bWkrySRGOPD7YTu+GuEbzxuidmo+ulFAQI433PZ72Euh5Cz9Vw/vx5NbuAMsHMmTMlLoeTHgWWB2/evEl58uRxUom+Wwy7qKfmnZvT2gVrqXi74nRo0iGPey64f/++cprKqMMoJdJJl5c9AlnC8rIH4o/NwQsONiNdunQh6NbPnj3bH2Fwep+x2SvCwz6s8PIAtzfHDhyjfIPzUfVW1T0uPOy32jtSiABx4XNAiFlPufNwYbdcUjTcZnzxxRe0fft25YbEJZVIoYJADAQQyhhGlB988AG9NfYtSpwlMWVLmS1GKjm1hoAIEGvIxOE6XHcg/GvlypVpx44dcSjJv7KeOHGCPvnkE1qxYoV/dTwOvcVYQ1hZGLkJOY5A+fLl1d/oV199RRcfRGKYM6V/OZB0HLX/cogl+n9YOOXo7Nmz1K5dO4KtAhzTIZ64kG0EYNg2ceJEwh8xlrGgbSVkHwHzsfb66697tZdm+73xTAoIEFDE8wi6eD9SgORLk88zjTFgrTIDcdJDY6UMmjx5MpUuXZrKlCmjXHeI8LAPLtxCYN8D/oXgxXfUqFGEkKkxCbYMsDwHzv5OlsYa4ncIxR6By6GX6an2VBUgAiT2OBo1p8fVeNm2Q8ubN6/GVr5uUPDzjSrYTb3GoXm1jz/+WGONE5udOnDggJYtWzalyhscHGwzrS/fRN8bNmyosGB/TL7cVaf1DSrMK1eu1Hi5z2qZ6y+s14pPL65VnlvZa1SejaDGKzMQJ4lMOApE+E98TQvpQwBhZv/44w+aMmUKsb2CzUyY1cEQDmF0YRi3cOFCm+l99SaUMoABsKhXr56vdtNp/YIaM/ywdejQgc6dO2e13LMhZ9W9fKnziQaWVZReviEC5GVMYn0lYULZUnIEvKRJkzr0EsSLEyq+0JxBhME2bdrQ3bt3HanS8GnhhgSx3Y0Sj96TgC9fvlx9bMAFCTw+2PIGffJuZOz3/Gnze7LJhqtbBEgsHhnPg2ORS7I4C4GWLVuqF0JISAitWrXKWcVKOT6CAAzwMONo27at0lDDbDVDBsvxPUxdDrwdqA6LpvffYFomLBz5lU9mB9BCuFbEjM6SJQt98803DuT076TweZU1a1YqUKCA04B45ZVXiNe1nVaetxUEy2goE4gDP8efDBQxoNaMZb4cOXLYLSDkcQgFPQhS6USA2IUrWgKZgUSDw/rJP//8o7SrYByIpRMh+wg8fvyYevfuTY0bNybg5mzCy9UXX7AYa9CqwhKMkOMI9O/fX7ms1yM8UHrgncjZR8L4CalAGud95DjecuPlEAFi55mFh4cTBmSdOnWoY8eOtHnzZmJtKzu55DZrTVG5cuVo27ZttH//fmrevLlbQXF3HHZndC7mWHvjjTecUazflZE4cWKCZwO9ZFq+gvBIlCCR3mySjhHQj7IfwsWeX5UhIJZK8FXYp08fSpAggR8iob/LT58+pW+//VaF+0S8E1jiI4qbOwkGnAini41ToxDaCrshGWvuf2L/3vxXVVo8Q3H3V27wGkWA2HiAGTNmVFbl7EpcRQ20kVRuvUAAjunmzZtHW7duVftEntBMq1q1KtWvX1+9kEePHk3ePhuBIgAEHtt3ENvGyFjT8dd06tQppTIPT85xoefaczp446AqokymMnEpSvIaGAGPGxJatVDywxs8C/GKXvPsR8uXL5/GzvI0tgHwijZZagSH5dV27txp6ZZci4EAjAHZ7Y2WPHlyrVevXhoHyoqRwrHT03dOKwNCGBEGhQY5ltnFqcWQ0MASSZoeewS8ZZmvSpUqyqVM0aJF1aY0XKV4I6VLl0453vTGtnlTm7CkDDsYOCrFUh+cSMKWKC504MYBlT1L8iyUNUXWuBTll3llCYsf+7Vr14gjkPnlAIhtp/njyxB+qRAT45dfflEhcGHBLmRMBJYsWaKW9rJnz67Uc2vWrOmUjpgESNlMZZ1Snr8V4vcCZNGiRWpgShAj/UP/1q1b1KpVK+U8Un8uz6bE/kLOnJ51042XID5WhBxHIE2aNMqZ5tSpU50WdRQfQbuv7laNKZe5nOONkhz+q4UFK2YEkenUqZNyJT5o0CAZDjoQwIYvfFhB26pZs2Y6ckgSjDVYRbPTSOUvTRBxHIFatWpR06ZNHc9oI8epu6foVtgtlaJK1io2Usotawj45Qxkw4YN6iXIm5dqOvzOO+9Yw0euv0AgNDRUCdv33nuPRo4cSYsXL6ZMmTIZHh/0C7Y9riLTWMOsDZbRNWrUcFVVUq6DCOwM3qly5EqVi7KnzO5gbkkOBPxOgMDFAXwpwTgQX9NwsSFkG4HAwEC1CY19IliUI2CWr1iAw8ixSZMm1L17d2KNHttAOHAXZaFMzNJkrOkHDuMLS0vuoB3BO1Q1lV+p7I7qfLIOvxMguXLlogsXLqjQqb7yEnT1yMTGZd++fQlf08DPlwibsQcPHiTYr5QtW5Zg8+MM2rhxo7LAR9kI0ytjzTaqT548UX7mEAb62LFjthM74e6jiEd04HqkBlbVbFWdUKJ/FuF3AgSPmYMY+efTjmWvU6VKpV6CjriHiGVVHskGN98wfMTMCgJl4MCBFBEREae2YFYDNy62XIjHqQIfynzo0CFCaFl4EIAgd4e2HJavEMY2UfxEVDFLRR9C071dcUSADOamwWVlKPNm5mLM1mgz33jCfJ8Z6fHbmdlE8figD/NpZtyDL4HGzOaUhk/mMIcw32GexSxvfgZByPkIwGK+X79+xAZ9an9nwYIFca7EVwVunIF5UQAUMYYPH06w14GvtF27dlGRIkWcVbzNcjZc2qDuY/M8WUAym2nlpnUE9Lpzx8u+PXNdZoTuGsi8lrkgs6WFYyxijmRGOkvUgy92ZW7IjEgurZgXM1diPsQMgvAIYM7DDIGDv+gZzG8x2yQOYUnjx49XfquwDi2kDwHsccCFOJas/JUQ0x5fwQEBGHr2Cev1sjxlHydLKaCMAfV5uPuvUKGCpSQuuRbxLIK2Xt6qyq6ds7ZL6vCXQvXOQLowIKOYA5kxs0AwDPyF2dLjxEvfGkHtaRLzCWYIGwgHLD6jHlAu5obMvZjvMmMG8gXzm8w2327YJIfn3AkTJqg1bU4vZAcBvARhbIewsd5qrW2nC069rdebK/bSateuTUuXLnVq/f5S2Oeff672n9wpPIDtnmt7KDQilBLES0A1c9T0F7hd0k89AiQV15ybea9ZC57xMWYKtryPQRjcZobQGcGcnNlEloQL2lL2RYLS/PuY2dyd6mE+D2fGPYuEUJ8lS5akggULEmJHV6tWzWI6ufgfAkFBQcqJ34gRI2jZsmVKVfe/u3JkCQEI3GnTpinNNHgafv311y0lc/gayn36/KnD+YyaIWXKlHF2RRKbvq+/uF5lg/Fg2iRpY1OE5HmBgJ4lLAgQUEjkT9T/mBmY7kVdfHHQj38xu0CeEsxYesrN/C4zaCkzlrBWM0PAYEaC5Sssj4FSMt9TR9H/Q3nW6iQYA8ITbKNGjaLnkjOLCACrTz/9VKmxzp8/n2DtK2QdASy1wA8TvPviAyUuY+3Goxu0I2gHHb11lE7cOaEi4t17co+eak8pIH4ApU+anvKnyU94ydXLVY9ypvKsFb11VIx158mzJ7Tu4jrV6Pq56xur8V7YWj0CBJvcoJhvF4juK+rOy//9Y3bpCB/3YN7AnJgZS2DfM2MJ7E/mdMy4N485LzMIdVraMEcbTO1BumgEzReomoLhzhssZBkB2D9gf+i3336jt99+23IiuRoNAYQ0hnouaMqUKQ5/qCB06vKzy2nluZV0/M7xaGWbn0A76NrDa4q3B22n8QfGU+0ctalX+V4Eozcj0Z07d5R67uDBgylbtmweb/rWK1spNDxUCWlvFCBr164lMPYjb9686XG87DVArwC5wAVhl2v3iwIRVQnLVzNfnOv9MS1dYQlsyAs25d3PB6Yg14f4GMIG3u9My1il+BhCB/cs0pgxY5zmJ8diBT50EdEC2cU5YRlBSB8CwAxLV1DS+Oyzz5TaKZQ1oOZsiy7cu0BTjkyh1edXK9VRU9q0idOqGUaR9EUod6rcajklcYLE9PjpY7r68KoSMpsvb1azk78v/01QPR1QeQA1ydfEVIRX/65evZo6dOigVHT1KiW4ukMrzq5QVVTPXp1SJ7b0jerqFtgu/9VXX1UzW6iAI7Y7Atn5AvXmTlxgLsaclHkE82XmZMwxKRNfwKe/6R7y7GVeyGwipMn34iQ9//7AfIHZfEEST3oNM+5nYMbC5RJmS4S/YA3+84UEAXcgcPnyZa1u3boaG1Zq/EduscrL9y9rX275Uis5o2RUzImq86pqI3eP1A5eP6g9fWY/bgoLK23jxY1agz8bRJXx58k/LdbnLRfZPYzGxpMaf5xov//+u4Y+eAPdDburlZ5ZWuG44cIGb2hStDbw7FbjOO5qXGF8GSEeiKWXsbVrg/jGVeYHzJuZIRhAOZhDmavihAmLtZip3GXGctMpZgic5MwmKs0HmMPjPryZzWGOOb/FctVs5hBmlIXZjrVPPREg0YainLgDAVNwI46OF626sIgw7aeDP2nlZpWLeuk3WdJEW35mucazi2hp9Z48DH+odVrXSZWHlyDvnejN6tZ0CIyVN29erwziNevYLIVflblVtCdPn7gVF1uVhYWFaayRpoJk/fTTT1EC1wgCxLSkxO9mQxMECON9z+5ygqF76WDj4R4CigUwzoI3WCF9CMAOhF+ChEBPjtKhG4foq+1f0eVQTND5qyhFNupepjthvT1BfKz8xp6wtNXmrzYEL7KlMpaiWQ1neZ0NyvLly+n06dPUs2dP8iZDSn6BU9NlTen8vfP0fpH3qW/FvrF/EE7OCa8HWBL94osvlAapqfj79++bvGZgrQ0f215H8b2uRdIgpyAAp3SIs40NOfh4ErKPAP6QsdnLIXCVaxP7Of5LAeO0Hw/8SO3WtFPCA3sZXUt1paVNl1KjvI3iLDxQU5KESWhg5YGq0n9v/hsVy/u/Vnj+6M0331QvQm8SHkBl3/V9SnjguFWhVvjxGsL+0K+//hpNeHhN4+w0RASIHYCMdhsqpt999x1hMw5/zNiEc4dvIaPhFLO9J06cUC41Fi5cSBxLnd56662YSayeI6ZEh3Ud1Eb5c+05lchQgma/PpvqJKujXvpWM8biRsmMJQkMMtkzxKIYv8uy4OQC1Wf4vcqTOo/f9d9VHRYB4ipkPVAub7ypeBO8cak0hIYOHUqJEiXyQEuMU6XJ7Q00rOBIEctXsMjXS4dvHqZ3VryjZgPx48WnLqW60MyGM+nUnlNq5gePCKjDmVQta6SBbODtQGcW61BZiKyIZSEjEGxuWBFBNdWTsw+Mg+vXrxsBMt1tFAGiGyrvT5gsWTJlfQ8X4piBCNlHAKqm48aNI/xCbRK+wPQSXkofrvmQboTdoFSJUtEvdX6hrqW7UsL4CdXsD25hoFper149gnB3Fpm+oE37LM4qV085EBqTJ0+mAgUKKGGrJ4+n08w5PkcZaGZKlknZ03iiPZcuXSLW2lNqzZ6o31V1igBxFbIeKDd9+vQqWmDy5OYKbx5oiIGqhNeCo0ePqn0PR5q96NQi6rWlF4U/D1cW4/Mbz6cq2apEKwJ7KbBYz507t4qAOWvWLKd8tSdKEDmrfKbBnMp9dPXqVXrjjTdoyJAhtGjRIrc6QIxtLx9GPKSFJyMtCLB5HpAApmTuIwhcPHe4WMqTJw/NnTvXfZW7oSY9hoRuaIZUIQh4BgF40nVU4M44NoNG7xutGlwmUxmaUHuCVaM0GBnC2h/xvBETPWnSpNSiRYs4dRYuT0BJE8Ikyz2EvaHOnTsrv2kIzZs2rbnJlnvaEJta/jz1p3KcmDwgObUoGDfcHa0fluTAbPv27UqIwFOGr5EIEAM+0bt37yp/TBkywL5SyJ0IzDsxL0p41Mxek0bV4GUv1o6yR3h5INKeM/yNnQ05q6rLkRImWK4n7ONAHXzSpEkqHLTra3RODdCMmxU4SxXWsmBLSpnIfV4XENIY2o/QhMQMN2PGjM7plJeVIktYXvZA7DVn3bp1ajkE69BC+hCAPj1casTVVf3i04tp+O7hqlIIjzE1x+gSHqZWQuAjcFVcadfVXaqIspnco5797rvvqpdgy5Yt49p0t+ZfcmYJXX90Xe1JtSnSxq11Yz8S+2p//vmnzwoPACoCxK3DKvaVwZEfPOcichtCriJ6npB9BOBBF+vPiBNTokQJ+xmspIBTw8G7Bqu7VbNWpR9q/uD09XR8MV99cJWgCmyNoHkFQ0IQ/Dm5gyD4XnnlFXdU5bQ64HV38uHIj6zmBZpTluRZnFa23oKgPu/rwcbi/jmkF01JF2sEYMsBS/LMmTOrTVlYSQvZRuDx48f09ddfq2UXRL6D8I2tcRte2L239FYvdthgjK01lkwb2bZboe/uP7v/oQE/D6CQWiEUFi9MOVacWn8qZUz28rLHb0d+U4UWTV+UwEKWEYCSA2YfiHnesURHy4nkapwRkBlInCF0bQFYP0WExY4dO9LmzZuViw3X1mj80gMDAwl2HfBoCrf13bp1i7XwuPP4Dn228TOCNg/ckvxY60enbl4rLZ1zs2j7tu10uP9hCrsYRhfuX6BlZ5e99CDgjddkPPhxiY+d+nUbHh5Ow4YNM4QL8ZeAiXEBLl9MghZ2H5mTZ46RwnmnBw4cUEoSzivRWCWJAPHy54VpMF6Iffr0UTHevby5XtG8FClSUJs2bYgd+1HhwoVj3SYsJX217SvlWj1lQEr6qc5PKtBTrAu0kHHLlS20NXwr5e2fl1JXTE3nhp2jG8tvUJqE8CX6H8EYrt+2yGXLSlkq0es5X//vZhyP8JFSqVIlgqYV/MkZnWYGzqSbYTcpSYIk1KFEB5d05+nTp/Ttt98quysjxO1wCQhcqAgQVyHrxHLZZbgTS/P9onLmzElfffVVnDespx6dSjuCdyjAhlYbSvnS5HM6eAtPRdoo1MxVk9r3aE95++Wl8H3hNOrDUSqoECqEqxT2xEuYDSGGyLfVvnXK7ANub0aPHq2ER8OGDWnPnj2UP39+p/fRnQUCK9Pso12xdpQhqfM1Fdn7shIcsOnALNef9yNFgLhzdEtdhkEAzgonHpyo2gsDtDo567ik7SaVXJT/XfXv6PTA0xR8IpiqVa1GUAVFyNs2q9rQ2XtnCQ4asXnvjA3h8+fPU61atdQe0fr162n48OE+4fYGzyzsaZgSHB8V/8ipzwyuSCZOnKjUc6tUqaKWR7FU6s8kAsQLnj7WweG/atmyl9e9vaB5XtuEK1euEAcvcnr7wp+F04AdAwiW3tio7lWul9PrMBWIGQVoz7U9apMeWjswNuw2oBste7iM3v/rfQp+GEwwhIPBYoUsFUxZ4/S7a9cuKlasGB06dEg5kYxTYV6S+eSdkwTVXRBc6CcLMMW0c04D4a0ZqrkrVqxQLmrwnPydJB6Ih0cAnNJhgxybcTNmzKDXX3fe2raHu+ay6iFwsXyAGApjx46l9u3bO7UuuGVHCFr4tFr4xkLKn9Z1yzrzT8ynYbuHqfZjkz57yuwqFvrF+xej+lQ4XWEaVX0U5U6dO+qaHERHAPtVbVe3JcwcC6UtRAveWOAUF/rRa3HvmRHigSR0LyRSmzkC8CfEoT+VkzW4h4hNACPz8vzh+NatW9SlSxeCfcf06dOVixBn9vtcyDmadnSaKvKTkp+4VHigEmgJQVjA4V/QgyDFpv7kSpWLsI7fLH8zJcxwHdpSmHXB75nQfwjAyBPCA9T/1f6GFx7/9cy7j0SAeOD5hISEUPfu3WnlypX0888/U+vWrT3QCuNVuWrVKuVPCp6GoTmUKVMmp3di1L5RynNr3tR5qUNx12jwmDcaLuARHQ+C5J+r/1DIkxC1UY6YIlg+i2mIBk2p3r17K9XRxo0bmxdl8ZjDpaolMYs3feTi7bDbNHb/WNUbGA2WzlQ6zj3zB9ziDJIPFWComOjBwcEaCw0tKCiIV2OE9CCwceNGjR0TajzriIoZrSefI2m2X9keFcN825VtjmR1W1reyFUYAItOnTppPBuxWjdvjms5cuTQWFPIahpfuPHlli/Vc6s+v7oW8jgkTl3iZSONl5Q1XkqOUznOyGyEmOi+IkMMJUCcMbj8rQxWOXWpwMWLueXylupF1Hl9Z6+H98KFCxprUWnsleAlAcFubzQ2ntTYHkZjB4guE7jeANK6C+uihP6Ksyvi1KStW7dq7HJd4Qp8PU1GECCiheUrItTH+wE3JFmzZnVZL7cFbaPjd46r8nuU7eGyepxVMGyDNmzYoKzs69evT2vWrFFFw5YDERVhgY/AYthji7kM5qw2eLocLF0N3TVUNaNWjlrUOI/9JT1LbYbbmy+//JIaNGiglpaBq9heWULq5WuyB/IyJk67ArW/J0+eECyjhbwXAf7SpF8P/6oaCC+7hdIV8t7GmrUMQrVHjx4qRgeCFc2ZM0dp9A0YMMDnPRfgmQ39ZyjdfXKX0iROQwMqD4iVoMTfJ/bU4CV57969VLSo+BczG2J2D2UGYhei2CWA+xEMTPgXEtKHANxDjBgxQvn80pfDOamgvYPY5qCOJTs6p1A3llKoUCFlBIiY7rDv+N///ufzbm8WnV5EGy9tVCh/8+o3sbY4T5w4MX3//fcKNxEejg9aESCOY2YzB6xVYZtQoUIFpZ6LQDxC9hE4ffq0CisLW5iUKd0X+ActQ9Q6EDztgo1K2bJlo1KlShm1+brbDe/II/eMVOmb5G1C9XLX053XUkLErA8ICLB0S67ZQUAEiB2AHLnNG29Uu3Zt5e5g7dq1Kj45vnCErCOApYhffvlFrdsjehvW7d3pHiI0PJTWXlirGtiigHtDnlpHxTl3oOqMKILA2FfoUcQj5Vof8T5yp8qtbD58pW9G7IcIECc9NXxB4+sPywn//vuvcrbmpKJ9thhWZ1br91i2Wr58OY0bN87tNgtwj/742WPlKqR+7vpejzWEAazw9XjNhSUzfFzBUSKwNjqZ9j3O3zuv4nyMrjFat7sSVpkXV0EuGAAiQJwEKryYItzsr7/+KpvmOjFFlMXs2bPT4cOH1cxNZzanJvv70t+qPDgzdLbvJKc2lAu7ceMGNWvWjL744gs6ezYyLrqtOuDwD9giEBnCAixYsMBWcq+/BzftK8+tVO2E8aVeZYf58+eraJRxDWns9QBJA2ONgNiB8OeZkGMIPAx/qJWdWVbZEay/sN6xzG5OvXjxYi1jxowaxyXX2J2Lw7Wz2xyNQ9MqA9bbt287nN/TGXYE7dBKziipntXA/7d3HWBSVNn6kASHnIOgmBAkg8giBlAR1hUeAg8+FAERUYKCBEWCiiDhgfKxuKC4roAgrMqCksQ0g+gCgoBkEGaGHIccBIT7zn9nqu3p6VA1011d1X3O952pdOvWuX/fqVP33hN+et2Ubwtw6tChg2432u82Ej+QbOsDuVEQiDwCa4+spcvXLlO+3Pnongr3RP6B2XgCpqoQLLJbt240adIkPYrIThysNm3aEOKtwecB+SzcRIgVNmj5IB2tuHbp2jSk4ZCQJruImluzZs30kPi8FoT2C4UfAfEDsYhpYmKiXpTEYrmQOQTOnTunzUqdFv56w9ENugHVS1Z37PQVjzzo0KFDOvYXrKxyQuXKlaP589PDneekHjvvhbNgz2970pnLZ6hMQhma2CR0PnoEnBw6dKjOGPj000+HVDZ2tifWniVrICZ/UQRXe+mll6hly5aEBTkhcwggrWydOnUcmTd6w7F0BVK3TF1zjYlCKYw+4GWeU+URBdFz/Egkhnrh+xdo39l9lJA3gd598F0qnVA6ZL3XXXcdrV27Vo/aYtULPyQINhUQBWICaHTGevXq0apVq7SZ6VNPPWXirvguAg9fpPps1qwZ9erVi3r37u04QOBPAKpRqobjZDMEwgvQjpcg0tviN3MKXbl2hThIIm06vony5MpD7zR5h6qVrGZaPHjpC0UeAUE5CMYIRTJixAjt4AalgfzHt99+e5A75BIQgOUPfDrgC4PYTP379yen/UOfvnSawCDk3Yg28QJvVEX46KOP9G+G3y7adPXaVRr641BK2p+kRXm90evU+IbGfsWKNm5+hYqjk6JAgvzYmHvGS/Cnn36iIUOG6Hg5QYrLJUYAo7RGjRrpRE/YR9pUJxKmRQyqVLiSsRuV7fbt23XYG44GG5Xn46GdO3emVq1aaTkQ2gMjkmgQMguOWDmClqYs1Y9/qf5L9Pjtj2cRBfKNGzeOHnvssSzX5IQgYBWBiJnxIsy3kHkEeNSm2Jvc/A1RKrl833JtEtpodqMoSaAUQtSz86RKSEhQnCRK8Tpb1GQxHsyxtBSPslXjxo0V+5oYp23Z8shDcXRdT3j2d9e/6/e5u3bt0vJBTv5I8VsmFk6KGa9VNeDA8nbMPzuw2dkWCVFNsWjudEIIE1Ch66ITKXnv3r16fQje9zA5HT9+PBUoUCDqsCEAKMLJ4DdEZAWMvu0gTFth5PHvHenOjl3u7EK9avfK9GhWCjRt2jQtG0LWb9iwgRo2bJipjBzYi4CY8TLe6JiIBCsB1eztfNF8GmIpgQrktf+lDasqpDFmp0BasGCB7cEjQ+FesGBBHc+tbdu2OkZZqPI5vf7HtT/0mseSlCW6qs53dqYBdw3IZDyA9cjWrVvrMEEwbYZxhlD0EYj7NZBjx44R/lGwxiFkHgHk5kb+BLcSnAdBV65esb0JMMT4+OOP6YMPPnCc8vAGgzMeEk+veZ8K+z6CI76U+BIZyqNHrR408K6BmZQHHoqPu/bt22tnSFEeYf8Zsl1hXCsQBPBDjCBYCL3yyivZBjGebjx58iQ9+eST1LNnT+JQEa5t+nV5rtOyI5Ci3XTrrbdqfyK7n+u05x2/eJy6LevmsbbqW68vvVD3hSzKw5C7S5cuVLx4ceNQtg5AIC4VCKKUPvPMM9ry5O233yZ8TXOcIAf8HM4WAcEiER4C4TUQFgNRXt1KJQuU1KKf+P0EwedAyDwCCOSIvpATSj6VTJ2WdKItaVsob668NLLxSOpes3tOqpR7o4BA3CmQffv2Ua1atWjPnj36JdipU6eAXzxR+D0c+UhEzYUjYLt27QgJshYuXEjly5d3pKxmhbqhUHpYEJiNHr1w1OxtlsphAfrChQuW7nFD4S1btuhp3z59+hD6hlVac3gNdVraiQ6cO0CF8hWiKQ9Poda3tdbVoD67Fu6tyi3lsyIQdwoEISFg8YIvqEqVomv/n/XncOaZ5ORk2rFjh7Z66d69e0woXMRVKpAnfQH9t5O/hRV4BCxEyHVkuoMjZawR/EVgAQWGNRT8fcwQjFVmbplJz379LMEKrmxCWZrx1xnUqEIjfTvS8cL6C2mgUVZIELALgYj5gXBHFopRBLou7ap9DiaunRi2Fv7yyy+Kc2srTmmstm3bFrZ6nVgRWy4qduZTHCRTDRs2THEolIBinrt8TvVP7O/x8eiwsIM6fO6wLo/72IhF18NOjAr1CikVa34gI1gbHGCGAX0SczAXY1yHneQZZpTH9nlmbxrGB8nMiCexjbkHszcl8UGoOrzLy74gYAmBOmXS/VV+PpzzUQLMwEeNGqUzUXIOCkIQyapVq1qSx22F8+TJQy+//LIegSxatEgHMPTXht2ndlPHxR3p6z3p6ybtqrTTI4+yBcvqKMPw5Vi8eDGtXr2aBg0apCM3+6tHzrkXgUEs+h7mO5mR5Hs0837mBGZ/lMgnoXACEVbLjjCjPtD9zJgsfhgHGRSqDqMctllGIBweQrGZqXzIWEAAX37wJI8XWn9kveeL+ODZgzlq9vTp01W1atXits/Bq96XEMXh0x2fqgazGmic639cX83/bb6nGPpalSpVFAfdVDzt5zkvO+kIxNIIpCe/pMczb2XGqGA4Mwzpswap4ZMZlMvY8bOtzed+ZEZ9oB+YtzDXxYEXBavDq9ifu9xptRNU/fr16fvv09OV/nlV9gIhkJKSQrD7h2d0vFCt0rX0PDzau2D3ghw1G8YYPH1Fd911V47qcevNvsEyj104Rr2/601vrnyTEJa9YqGKNOvRWZ7FcrQTUQvWrVun87bnz4/vUiG3IWBmER1f95WZvb3GEGltA7PvC59PeQhKJ40ZSmIMc0Fmg77knXuYMYcAJfEQ8y3MS5i9KVgd3uX0PvJ0NG/eXC+SY0iN4bVQcAT4W4c+/PBDHbYCPjHw74gXyp0rN7W5vY1u7r+3/5suX72c7aZjOsdpCbOy3Zgc3vh16tfU5ss2tOLACr0Y3vrW1vRZy8+oaomsU3rwehdyLwJmFQhaeMqnmSf5GMrFH73KJ29nhrF9B+bmzP9kNugb3pnG/AszRjSLmYcyYxRiUKg6jHKeLaLAVqxYUYcTb9Kkiee87PhH4PDhwzoC62uvvaZ9YaZMmULx9g/d/o72OqVt2u9pnjhM/tGSs6EQOHL+CPVP6k8Dlg+gU5dOUYkCJaj5keb06//9SudPng91u1x3IQJmFAgWwEHF0jeev8V5z7jmOZmxA7s+Q+Fs4v1+zG2ZjXHqKN5/lPk2ZrgEY9w/iNl7IT1UHVw8M+EFiLwGRYsWzXxBjrIgAEdAjDgKFSqk/WEwcotHKnV9KepYtaNu+tRfp9LJ3/Fd5J/geY8YVjA3FfoTAcSymrV1FrVa0Iq+2YNvQ6KmlZrSf1r9h4Y+O5TS0tLopptuonnz5v15k+wFRQB9bfDgwUHLOOGiWQWSysI28BI4D+9j+mq91zkzu8aaxv9w4VnMKRk3bebtAmacD0VGHVnKwfIFyYvAyOMhFBiBO+64QyvbOXPmUIkSJQIXjIMriL9UNH9R7ZswctVIvz4ImBKFwkXWPoQiEUpHAHnlYWE1bs04uvDHBSpzfRma8MAEmtR0EuW5lIf69u1LbM5Mzz33HD377LM6+sOpU8a3paDoiwDeWwgaCYWLoJuxQgO5IanM1ZmvZx7DjIw8/qywyvB5fM4a13DPGubPmA36iHcwwrgx40Q13u5iHpFxbKaOjKJ6k8UKSyw5BAErCCzevdhjkfX5js89t3LYG8XOk6pIkSIKllaSHyYdmtTTqYqDIHowqzWjlhq7eqw6e+msLvDNN98onk5WLVq0ULw2qc/t379f8UhXsQOv+vXXXz0Yy046AuhrrGQ9fY0VreK3GzjQUoH3O9Dx+2+whIeYzzEnMUMxgODODV+PxjhgglJYzYy5AExx7WSGwinIbBAAeZ95PzPKYCQynjk9RKq5Ori4h0SByH9hjhHgHNz6hVhnZh21+uBqxV7k6uabb1ZsnaZSU1NzXH8sVJB2MU29teotVWdGHY/yeHLxk2rr8a26eTAFf+GFFxRPjaqpU6dmUbhQwP/617+0k1ws4BGuNvjra24w4w04HeR5NbtjBwqE8T5N/KXoDoltkhKhNLDOwd7RNj3RvY9BaPGuX3WlbSe2UeF8hWlApQG075d99OKLLzoup7vdKCNy7sytMwnWapiqAiGXfL96/eihGx/KFN5m7NixOm7abbdhiVPIDAKIL8ajtkx9DUFfM9Zzi3IdgdabzVQfsTKiQCIGbXQrRgKekSNH0oQJE+i9997Tc8/RlcgdT0dgRUSJPXT+ECXkTaDJD06mu8vf7Q7hIyDl4fOHafqW6fT5zs/JSMIF66qetXtS2ypttQVbBB4rVTICokDs6wYyAvHCeuvWrfTUU08RlAgSFyE1qZB5BA6eO0jdv+5O+87u06HGBzYYSE9UfSLTV7b52txZctOxTTR7+2xalrqMYGUFQgj8rtW7EkyfE/IZS5zhax+vkeiXpoyW0zF1gwIxY4UVvh4iNUUUAXjhT5w4kTiQn075iYyBojxCQ45ow7CuMqhCoQo0vcV0qlaiGv2h/qCxP4+lQT8MIuQOiWXCCGNR8iLiNQ16YskTtDh5sVYe5QqWoyENh9BXbb+irjW6auWBvoYIzeEkTOGg7yIaAuqPRfLta7HYRje2CSOQuF+Yg2ULp0tVK1asCNfaXkzXgwVdLPRiwZezU2Zp68UrF9XQFUM9i8X3zrlXfbnrS3X1Wta4T1ludskJYLDx6EY1cuVI1eiTRp621pheQz2x6Am1aPcidfmPy5laA4MCdtRVHLYlyyJ5poLZOPjhhx+04QLqjyXDhVB9zR9UblhEd6Oy8CezKJCMHhhPwRD9/dOZPedtUvrdd98FvA3/+HiJ3jfnPs/Ltd2X7dTyfcvD/vIMKESYL6BNO0/sVFPWT1Gt5rfytAtKo+7MumrwD4O1UvF9LO5jR11tZsp+Hers2XSTXd9yOT2GOWuPHj30c/A8PNfNZLav+bbRDQpEFtH9qSM5F9MIzJ07l3r16qXzkk+aNImKFSsWsr2YvpqwZgItTF7oKYspLnix//Xmv1KBvAU85524g7S9G49tpB8P/Ejf7vmWUs+kZhKzZqma1OrWVrotcKr0paNHjxK/1HXIdcROe/TRR32LhP14yZIlOvX0ggULCCHf3UjZ6WtGO92wBiIKxPi1XLblr5W4WtQN18/z6aef6vS877//PrVp08ZytTtO7KDJ6yfT8v3LPfcWua4Itajcgh6+6WG6q9xdjrBMQv9IOZNCKw+upFUHVxFynhjmt4bglYtUpmY3NaO/3fI3urVYYO96HgHoNNBY3OYpPypZsqRRRcS3SHHr1vhsOe1rokAi3r08D4gbKyz4uiA8RM2aNXXaVA8CsmMKAVimnThxgsqWLWuqfKBC29K20dwdc/VCs2HeirL4er/3hnupQdkG1KBcA6pUuFLEFT2UBYJBbjm+hTanbaZNxzfR5uOb6fSl05nEz8WBrxERt+mNTanZjc200siVy9w3JCJdV6hQIeJtySSwyw9y2tdEgdjXAeJCgSQmJlLXrl11pjv25iXkdxeKLgJ4ScNaCUEE1x1dR9dUZushKJSqxatSlRJV6OaiN9MNBW8gWHkhGx9yspt9gSOnxvELx+nYxWN09OJROnD2AKWcTtFTUdieuezfz6x8wfI653ij8o2oYfmGVLwAYqAKuQEBUSD2/UoxrUAuXrxInDOaPvjgA+Kc0Tpnh9kXj30/gTyJw3xQ4r5E+vnQz7TmyBqC93Ywypc7H2H6q0j+IpQ/T35CfpI8ufJopXLpj0s6EROmneAh7zv95K9e1HFnyTupRqkahDUNbJHIKRb7yqxZs3QCr9GjR8dsHhZRIP56eWTOxawCgd34Y489pkMazJw5k9hMNzIIxlCt8OkYMWIEtW/fnurUqROVlmFaae/ZvTosCls80Y6TO7RjIpwUvae8rAoHJQNPcIwssIaBUU3lopX1PrZQStmltWvX0ueff05jxoxxvNLZuXOnjq6AlyycZZGBNBoUyb7mBgWSNxqgyzPNI1CuXDltMfT888/rFKDm74zPkhs3btRe+MgQCG/8aBG++hErCowFdoOM9QqETMG005lLzLyFlRSmv9jHhMOvKj0iuT7v9dppD1tMPZW+vrRWHnlzh/ffFnP1+JIfN24cDRs2TIezd/qohXOp048//qhlvu+++3TuDM6tTvnyZV+BGr+R2a1T+ppZeaVcYAQwAol7R0J+OcUtIQosB/FTnFZWDR8+XPGXYdxiYaXhnKtDOwRWr15dcX5yK7c6pizkhvzsxa54xB5xuezqa27wAwn8SnbXFVEgEf+3ce4Ddu/erRo3bqy98FetWuVcQR0kGZzzOGSISkhIUAMHDlS8zuYg6ayLAvk5NbM6duyY9Zst3GFnX3ODAgnvWNhdSsdR0u7du5euXr1KnH/CUXK5QRiY5datW1dPZ/AL0Q0iO0JGfhnS0qVL6f7773eEPDkRokCBAnrdKyd1mLlX+lpmlMwZgWe+x4lHGIGwwnZfPhD++CFYlHASHj3/zF+DTsRXZBIEBAGbEZBFdJsBd9vjeLhNWBzHYiAsSVq2bOm2Joi8goDjETh+/Lg2DChdurTjZXWbgBLOPUq/GEd/pRo1auinb968WZSHid+Bc0QTL2CaKClFvBHACzSeacaMGfp/Df9zZkn6mlmkYqOcqxbRYflSvHhxxaMO10catbD+mKOiy5YtU+x5rz755JMc1RNPN2MRtlu3bqpq1aqK19fiqemZ2gqDAfyvcXpYjQdwCUZO6WuQk1/PYLzfhCKIgKsUCDpvqE4crIPH07Vz584pjpyrChcurNgTXxSuyR8/KSlJVa5cWT300EOKDTRM3hXbxYAD8AAuy5cvz9JYp/U1USAR1Bg+VbtOgWTpvXIiCwIrV67Uprn33nuvgvmkUGgEYM46YMAAxRFs1eTJk+N65OEPLYzE/v73v2t81q9f7ynixL4mCsTnLR/BQ1Egnn+F2NjhXBDaR4Fjfyk4bgmFRgBTNfCHufvuu9X27dtD3xDHJZDkCXiBnNrX3KBAxIw3QloNi73sGU1lypTRiXgi9JiYrfb3338n+Cmwh3HMtjESDeO0xhqzvHnFxcssvk7ta24w4xUFYraXWSjnHegNARA5d7SFu6WoICAICAJEblAgYsYbxp7KQ2L6xz/+QfXq1aN77rlHh5sW5RFGgKUqQSDCCHzxxRf07rvvEv6XhUIjIAokNEamShw5coRatGih83UsXLiQ3nnnnZjNU2AKEBOFePqZkF97x44dJkpLEQMBnr8nXgg2DmVrAgGzfY3N62n8+PH6fxk4CwVHQBRIcHxMX+UosDpv9KZNm6hp06am74vXgocPH6ZWrVoRB8AjeOQLhUYAL8HZs2frdMYbNmzQsdNC3yUlrPQ1xAVDmHZk+0TaaOAN3IViGwGxwuJe7hbipEWqVKlSqmPHjiotLc0tYkdVTkSZbdeuneJwHGrBggVRlcVND89JX5s/f77GG7izN7/tzXaDFVasqBVRILZ3b+sPPHnypOIkT6pEiRJq7ty51iuI0zsWLVqkOLGYat26teKp0jhFwVqzw9XXgHfnzp3VgQMHrAkQhtJuUCBi62dRhZ49e5YuXLhAZcuWtXinFEfMLx5xEKb5KlSoIICYQIDfQzR9+nRtEs4vMsenmjXRJFuKhKuvwQwfsbSE/CMgZrz+cfF7dsWKFdSlSxfq0KGDzhvtt5CcFAQEAUEgDAiIGW8YQHRCFZwelV5++WVtmfHiiy/SW2+95QSxRAZBQBCIIgKYjcC7IZ5JrLBC/PqwdoEvx/fff09r166lfv36Ue7cAlsw2K5cuSJ29MEACnAt3l9GAWAJejqafQ3mvng34B0RryRvwiC/fHJyMnFsIWrbti1xsDWqVq1akNJyCQhs3bqV/vKXvxA88IXMIYCwN6NHj9ZpeSXfiTnMUCrafW348OHUpk0b7TQ8ZswYyVVj/qdzXMmIWWGlpKSEwZ4i9qtAlFN2ntQBEF955RXF8YViv9FhaOFvv/2mGjVqpHN2rFmzJgw1xn4VTutrq1evVlWqVNG/I37PcJEbrLAcpwmyKVDEFEi4OkMs15OamqqaNGmibrnlFsWGBrHc1LC1DZFgp06dqgoVKqT69u2r2LIvbHXHckVO7Wvnz59XvD6qw8TzyCgsP4EokGxqg2zcJgokLF3WeiWcz10VKVJE9ejRQ/GiovUK4vAOKA+eFlUVK1ZU3377bRwikL0mu6Gv8TqpJ0x89lr5511uUCBixsvaip3a9MJ4+/bts6G74vsWzuJGP/30EzVv3jy+gbDY+u+++47q169PxYoVs3hn/BaPt77mBjPeuFYgcGrr3bs34Z8ZQf0Qm0lIEBAEBAEnIOAGBRK3VlhLly7VwdLgVQ6vVVEeTviXERkEgdhEIDExkfDOiTWKOwWCYXDPnj21NzkcAhH/X8KShO7W+AfYs2dP6IJSwoMA+tpnn33mOZYdcwjEYl87evSofufg3YN+ESsUdwoE6Ss5sqYO2fz0009LbKEQPfnixYvaebJly5Zx7TAVAqYsl7EuVLt2bZoyZQrB2U0oNAKx3NcQ/gjphrds2UJ16tSh//73v6EBkRK2ISBWWH8ab4RtD34JVatWVewYqDhNb9jqjeWK4P8yePBg7Q/z9ttvK/gsCIVGIF76GjuKqgkTJuj+8eqrryqOPhAQHDdYYVl5w4/gwgeYzzInMVdnDkRJfAFBYs4wozy2zzN70zA+SGY+zbyNuQezN8E8ZTbzKeYTzB8zF2X2R6JAAnZD6xcuX76s3njjDcVJstSoUaMUf0FbryQO7+AvTFWrVi1Vt25dxetqcYiA9SbHa1/jiNSKk1cp+LUEolhSIIP4rY0J8DuZ8zOPZka+xwRmf5TIJ6FwAlF3vnCEGfWB7me+wPwwDjJoMW+/Zi7OXIL5G+YFzP4oiwKBpscPIGQdgaSkJFWjRg21bt066zfH8R3NmjVTw4YNC/pVGcfw+G269DW/sOiTsaRAMFLo4/XmzsP7UABPep3z3oUCedP7hM/+ZD6e53NuDR9DUYFuYkZW+xo4yKBavMW5isYJr20mBbJr1y7FMaxUnz59Av86Nl756quvbHyatUcFki3ao45AcllrXWRKB5It2pihtYFkiwwS1moNJFu0cQskl7XWhb+0GxSImUV0vJwrM+MFb9BV3tnAXNc44Wfbk8+lMW9lHsNckNmgL3nnHuY6zLmYH2K+hXkJM6g28+/Mm3GQQRt5e5kZ9/gl/glp2rRpepEKC1Vjx471W87uk8uWLbP7kaafF0i2vHmjm2sskFymGxbBgoFkizZmaHIg2SIIh+mqA8kWbdwCyWW6YWEuyNOBs3PoAAAHgUlEQVR6rsnDbuYtAQUCOpW+8fw9yXvGNc/JjJ1XebudGffUZJ7BXJm5IzMI01HTmH9hhjLCyKIf8xZmEOrF2ogvob5AzyTOXUzbtm2jefPm0SOPPOJ7rxz7IACFCxayhoBgZg0vlJa+Zh6z1157TWftnDhxovmbolTSjALBAjioWPrG8xdrE/s9R5l3VnkdbuJ9KIdvmbF+gsX1UcyIfXEbcwozpqq+YIYigWLBM/0tmEMGQx7ezUyFCxfWYTWKFy9O8OJ0CuGLwknyABeYMiO3CRwpnSYb5HMiZpBr/vz5NGfOHBoyZAjlz4/u7CxyIm7S16z1EfiKIIEdQt3ECiVzQ3zXQI7yuUBrIL7tvp9PYPqpQMYFKJW+GfvG5m3ewcI56EZmjEy810BqZ5zztwZyA1/Dp7SwYCB9QPpArPUBvN8cSVh/MEMDuRAUyN+YoUxeY+7EfAczrKe8qQwfYG1kBTOuVWeezpzK/L/MoI+YkZ2pPfPejP2FvIXZ7uvMIBznY4aSgpxzmOHC+TizL+F6BeazvhfkWBAQBAQBFyNQmGU/yAyl6Gp6g6U/xIyXeBIzFAOoEjNe3I1xwITRw2rmk8yYR9rJPIbZexEd6xjvM2MKDGVSmMczQ2EYhOmqWcynmFHXTOaA6x98TUgQEAQEAUFAEBAEBAFBQBAQBAQBQUAQEAQEAUFAEIgyAiP4+QeYMV2WxGxMofFuFsL0F9ZTMP11gjlYGBS+nGOyIlsSPw2WaJi6Q1uw9Q3zwqdyTB24hh+YTzPDICE3czCyEzOrsiWx4HZghqnWjczADH3tE2Z/Rht82kN24ZYd2ZJYSjtww5roLmb8v6Uxo989zByM7MItO7IlseB24OaNz3w+uMb8oPdJn327MPN5rPsP4aG+h9lsKBVYc33NXJy5BPM3zAuYI0FWZUtkIaBwIk3N+AF4UT/NbEaB2ImZVdnswuwtxqouc15mrLfNZl7PHIzswi07stmF2+0MUNEMkIBdf2Y4Anuve2Zc9mzswi07stmFmwFGZ975ihn/p8EUiF2YGXLFzDaZW+JrRhwolMqNXBaa3NsEuFbGuVBfk1zMMlmRDZWjc75p+SnZv+EBvjWUArEbM6M1ZmRDWbsxM+SrzTvAzng5GueNbbRww/NDyYYy0cAtPz+3H3Mqcz5mfxQt3MzIBnntxA3vpFRmbK8xB1Ig0cKMRXI34UsQwDb0acYyPp7gcw6HrZh9TYtxHl9Ej2EnjGRVNjwanfMYM4b6W5nHMAf7UuPLOaIH+O5QCsROzLwbY0Y2lLcbM0PGl3kn2Tjws40WbhAllGwoYyduj/LzTjLjfzWF2QiUyrtZyG7crMgGYe3EDe+xZzIQAnaBFIjdmGWIFHyTO/hlR1wtkiHFKR9p0FmNa96XcA5z2L6E+/2V9y1n5dioz6xsqPtVZgyrSzJjiqk58z+Zo0l2YpaddkYDM8zhD2d+LojA0cLNjGwQ207clvDzjCnjRbyP40AfRnbjZkU2Fts23HrhYUwfpm+C/rUbs6DCuOkigIulEYgv9vfzCXjp5/e9EKbjB7get49AfKGINGYYqeIDpZXvg32Ocf2CzzkcRmK0azzGrGxGee9tpHEznpWLd2Ac8rhxwmcbDdwMEULJZpTz3kYCt1v4AXAQrOT1oGu8LyMQL0DCsYuOmMrcwKuyPLyPxc71XueM3Q28g5dxDeMEb2szYz4W18JJVmUL9mx07GiRnZiFs42RwAyRD2C197/MX4YQ1m7crMgWTPRI4Ob9PPx/guF07I/sxs1bhlCyeZf13Q8nbvdx5SWYf2HGlDYYNI/5Pb2X+U80McssiQuPBrLMqczVma9nHsO8jzmB2R8t5JOwasA0USlmWGHNZ44EWZGtDAvQnNmQG+1Zw/wZc7gJ05NQpI8wYwSCZ+I40D+BnZhZkc1OzPowPieYGzObJbtwsyqbnbi9yGDheaDSzNOYdzMb/Zx3s5BduFmVzS7cEBewgg9jBIIPl2LM/sguzPw92/Xn3uAWHGLGV00SM16+IAwBzzJ7/9PjB5jFfIoZUxEzmYswR4re4IrNyHYjlwsV5iVcMnbhitAhoTzAxv79vB9tzKzIZidmwOgSM0aWYPQrbI2+FU3crMpmJ254saH/A6+9zB8z38xsUDRxsyqbnbgZ+Bhb/J8+mHEQTcwMeWQrCAgCgoAgIAgIAoKAICAICAKCgCAgCAgCgoAgIAgIAoKAICAICAKCgCAgCAgCgoAgIAgIAoKAICAICAKCgCAgCAgCgoAgIAgIAoKAICAICAKCgCAgCAgCgoAgIAgIAoKAICAICAKCgCAgCAgCgoAgIAgIAoKAICAICAKCgCAgCAgCgoAgIAgIAoKAICAICAKCgCAgCAgCgoAgIAgIAoKAICAICAKCgCAgCAgCgoAgIAgIAoKAICAICAKCgCAgCAgCgoAgIAgIAoKAICAICAKCgCAgCAgCgoAgIAgIAoKAICAICAKCgCAgCAgCgoAgIAgIAoKAICAICAKCgCAgCAgCgoAgIAgIAoKAICAICAKCgCAgCAgCgoAgEDUE/h+2G77f7QcIngAAAABJRU5ErkJggg==\">"
      ],
      "text/plain": [
       "<IPython.core.display.HTML object>"
      ]
     },
     "metadata": {},
     "output_type": "display_data"
    },
    {
     "data": {
      "text/plain": [
       "<matplotlib.text.Text at 0x113484950>"
      ]
     },
     "execution_count": 94,
     "metadata": {},
     "output_type": "execute_result"
    }
   ],
   "source": [
    "# Setup figure and axes\n",
    "# Generally plots is ~1.33x width to height (10,7.5 or 12,9)\n",
    "fig_phase = plt.figure(figsize=(5,5))\n",
    "ax3 = plt.subplot(111)\n",
    "\n",
    "phase_line, = ax3.plot([], [], color=tableau20[4], linewidth=2)\n",
    "\n",
    "ax3.set_xlabel(r'ln$\\frac{V}{V_{ref}}$', fontsize=16, labelpad=20)\n",
    "ax3.set_ylabel(r'$\\mu$', fontsize=16)"
   ]
  },
  {
   "cell_type": "code",
   "execution_count": 95,
   "metadata": {
    "collapsed": false,
    "extensions": {
     "jupyter_dashboards": {
      "version": 1,
      "views": {
       "grid_default": {
        "col": 5,
        "height": 19,
        "hidden": false,
        "row": 8,
        "width": 7
       },
       "report_default": {
        "hidden": false
       }
      }
     }
    },
    "urth": {
     "dashboard": {
      "layout": {
       "col": 5,
       "height": 19,
       "row": 9,
       "width": 7
      }
     }
    }
   },
   "outputs": [
    {
     "data": {
      "application/javascript": [
       "/* Put everything inside the global mpl namespace */\n",
       "window.mpl = {};\n",
       "\n",
       "mpl.get_websocket_type = function() {\n",
       "    if (typeof(WebSocket) !== 'undefined') {\n",
       "        return WebSocket;\n",
       "    } else if (typeof(MozWebSocket) !== 'undefined') {\n",
       "        return MozWebSocket;\n",
       "    } else {\n",
       "        alert('Your browser does not have WebSocket support.' +\n",
       "              'Please try Chrome, Safari or Firefox ≥ 6. ' +\n",
       "              'Firefox 4 and 5 are also supported but you ' +\n",
       "              'have to enable WebSockets in about:config.');\n",
       "    };\n",
       "}\n",
       "\n",
       "mpl.figure = function(figure_id, websocket, ondownload, parent_element) {\n",
       "    this.id = figure_id;\n",
       "\n",
       "    this.ws = websocket;\n",
       "\n",
       "    this.supports_binary = (this.ws.binaryType != undefined);\n",
       "\n",
       "    if (!this.supports_binary) {\n",
       "        var warnings = document.getElementById(\"mpl-warnings\");\n",
       "        if (warnings) {\n",
       "            warnings.style.display = 'block';\n",
       "            warnings.textContent = (\n",
       "                \"This browser does not support binary websocket messages. \" +\n",
       "                    \"Performance may be slow.\");\n",
       "        }\n",
       "    }\n",
       "\n",
       "    this.imageObj = new Image();\n",
       "\n",
       "    this.context = undefined;\n",
       "    this.message = undefined;\n",
       "    this.canvas = undefined;\n",
       "    this.rubberband_canvas = undefined;\n",
       "    this.rubberband_context = undefined;\n",
       "    this.format_dropdown = undefined;\n",
       "\n",
       "    this.image_mode = 'full';\n",
       "\n",
       "    this.root = $('<div/>');\n",
       "    this._root_extra_style(this.root)\n",
       "    this.root.attr('style', 'display: inline-block');\n",
       "\n",
       "    $(parent_element).append(this.root);\n",
       "\n",
       "    this._init_header(this);\n",
       "    this._init_canvas(this);\n",
       "    this._init_toolbar(this);\n",
       "\n",
       "    var fig = this;\n",
       "\n",
       "    this.waiting = false;\n",
       "\n",
       "    this.ws.onopen =  function () {\n",
       "            fig.send_message(\"supports_binary\", {value: fig.supports_binary});\n",
       "            fig.send_message(\"send_image_mode\", {});\n",
       "            fig.send_message(\"refresh\", {});\n",
       "        }\n",
       "\n",
       "    this.imageObj.onload = function() {\n",
       "            if (fig.image_mode == 'full') {\n",
       "                // Full images could contain transparency (where diff images\n",
       "                // almost always do), so we need to clear the canvas so that\n",
       "                // there is no ghosting.\n",
       "                fig.context.clearRect(0, 0, fig.canvas.width, fig.canvas.height);\n",
       "            }\n",
       "            fig.context.drawImage(fig.imageObj, 0, 0);\n",
       "        };\n",
       "\n",
       "    this.imageObj.onunload = function() {\n",
       "        this.ws.close();\n",
       "    }\n",
       "\n",
       "    this.ws.onmessage = this._make_on_message_function(this);\n",
       "\n",
       "    this.ondownload = ondownload;\n",
       "}\n",
       "\n",
       "mpl.figure.prototype._init_header = function() {\n",
       "    var titlebar = $(\n",
       "        '<div class=\"ui-dialog-titlebar ui-widget-header ui-corner-all ' +\n",
       "        'ui-helper-clearfix\"/>');\n",
       "    var titletext = $(\n",
       "        '<div class=\"ui-dialog-title\" style=\"width: 100%; ' +\n",
       "        'text-align: center; padding: 3px;\"/>');\n",
       "    titlebar.append(titletext)\n",
       "    this.root.append(titlebar);\n",
       "    this.header = titletext[0];\n",
       "}\n",
       "\n",
       "\n",
       "\n",
       "mpl.figure.prototype._canvas_extra_style = function(canvas_div) {\n",
       "\n",
       "}\n",
       "\n",
       "\n",
       "mpl.figure.prototype._root_extra_style = function(canvas_div) {\n",
       "\n",
       "}\n",
       "\n",
       "mpl.figure.prototype._init_canvas = function() {\n",
       "    var fig = this;\n",
       "\n",
       "    var canvas_div = $('<div/>');\n",
       "\n",
       "    canvas_div.attr('style', 'position: relative; clear: both; outline: 0');\n",
       "\n",
       "    function canvas_keyboard_event(event) {\n",
       "        return fig.key_event(event, event['data']);\n",
       "    }\n",
       "\n",
       "    canvas_div.keydown('key_press', canvas_keyboard_event);\n",
       "    canvas_div.keyup('key_release', canvas_keyboard_event);\n",
       "    this.canvas_div = canvas_div\n",
       "    this._canvas_extra_style(canvas_div)\n",
       "    this.root.append(canvas_div);\n",
       "\n",
       "    var canvas = $('<canvas/>');\n",
       "    canvas.addClass('mpl-canvas');\n",
       "    canvas.attr('style', \"left: 0; top: 0; z-index: 0; outline: 0\")\n",
       "\n",
       "    this.canvas = canvas[0];\n",
       "    this.context = canvas[0].getContext(\"2d\");\n",
       "\n",
       "    var rubberband = $('<canvas/>');\n",
       "    rubberband.attr('style', \"position: absolute; left: 0; top: 0; z-index: 1;\")\n",
       "\n",
       "    var pass_mouse_events = true;\n",
       "\n",
       "    canvas_div.resizable({\n",
       "        start: function(event, ui) {\n",
       "            pass_mouse_events = false;\n",
       "        },\n",
       "        resize: function(event, ui) {\n",
       "            fig.request_resize(ui.size.width, ui.size.height);\n",
       "        },\n",
       "        stop: function(event, ui) {\n",
       "            pass_mouse_events = true;\n",
       "            fig.request_resize(ui.size.width, ui.size.height);\n",
       "        },\n",
       "    });\n",
       "\n",
       "    function mouse_event_fn(event) {\n",
       "        if (pass_mouse_events)\n",
       "            return fig.mouse_event(event, event['data']);\n",
       "    }\n",
       "\n",
       "    rubberband.mousedown('button_press', mouse_event_fn);\n",
       "    rubberband.mouseup('button_release', mouse_event_fn);\n",
       "    // Throttle sequential mouse events to 1 every 20ms.\n",
       "    rubberband.mousemove('motion_notify', mouse_event_fn);\n",
       "\n",
       "    rubberband.mouseenter('figure_enter', mouse_event_fn);\n",
       "    rubberband.mouseleave('figure_leave', mouse_event_fn);\n",
       "\n",
       "    canvas_div.on(\"wheel\", function (event) {\n",
       "        event = event.originalEvent;\n",
       "        event['data'] = 'scroll'\n",
       "        if (event.deltaY < 0) {\n",
       "            event.step = 1;\n",
       "        } else {\n",
       "            event.step = -1;\n",
       "        }\n",
       "        mouse_event_fn(event);\n",
       "    });\n",
       "\n",
       "    canvas_div.append(canvas);\n",
       "    canvas_div.append(rubberband);\n",
       "\n",
       "    this.rubberband = rubberband;\n",
       "    this.rubberband_canvas = rubberband[0];\n",
       "    this.rubberband_context = rubberband[0].getContext(\"2d\");\n",
       "    this.rubberband_context.strokeStyle = \"#000000\";\n",
       "\n",
       "    this._resize_canvas = function(width, height) {\n",
       "        // Keep the size of the canvas, canvas container, and rubber band\n",
       "        // canvas in synch.\n",
       "        canvas_div.css('width', width)\n",
       "        canvas_div.css('height', height)\n",
       "\n",
       "        canvas.attr('width', width);\n",
       "        canvas.attr('height', height);\n",
       "\n",
       "        rubberband.attr('width', width);\n",
       "        rubberband.attr('height', height);\n",
       "    }\n",
       "\n",
       "    // Set the figure to an initial 600x600px, this will subsequently be updated\n",
       "    // upon first draw.\n",
       "    this._resize_canvas(600, 600);\n",
       "\n",
       "    // Disable right mouse context menu.\n",
       "    $(this.rubberband_canvas).bind(\"contextmenu\",function(e){\n",
       "        return false;\n",
       "    });\n",
       "\n",
       "    function set_focus () {\n",
       "        canvas.focus();\n",
       "        canvas_div.focus();\n",
       "    }\n",
       "\n",
       "    window.setTimeout(set_focus, 100);\n",
       "}\n",
       "\n",
       "mpl.figure.prototype._init_toolbar = function() {\n",
       "    var fig = this;\n",
       "\n",
       "    var nav_element = $('<div/>')\n",
       "    nav_element.attr('style', 'width: 100%');\n",
       "    this.root.append(nav_element);\n",
       "\n",
       "    // Define a callback function for later on.\n",
       "    function toolbar_event(event) {\n",
       "        return fig.toolbar_button_onclick(event['data']);\n",
       "    }\n",
       "    function toolbar_mouse_event(event) {\n",
       "        return fig.toolbar_button_onmouseover(event['data']);\n",
       "    }\n",
       "\n",
       "    for(var toolbar_ind in mpl.toolbar_items) {\n",
       "        var name = mpl.toolbar_items[toolbar_ind][0];\n",
       "        var tooltip = mpl.toolbar_items[toolbar_ind][1];\n",
       "        var image = mpl.toolbar_items[toolbar_ind][2];\n",
       "        var method_name = mpl.toolbar_items[toolbar_ind][3];\n",
       "\n",
       "        if (!name) {\n",
       "            // put a spacer in here.\n",
       "            continue;\n",
       "        }\n",
       "        var button = $('<button/>');\n",
       "        button.addClass('ui-button ui-widget ui-state-default ui-corner-all ' +\n",
       "                        'ui-button-icon-only');\n",
       "        button.attr('role', 'button');\n",
       "        button.attr('aria-disabled', 'false');\n",
       "        button.click(method_name, toolbar_event);\n",
       "        button.mouseover(tooltip, toolbar_mouse_event);\n",
       "\n",
       "        var icon_img = $('<span/>');\n",
       "        icon_img.addClass('ui-button-icon-primary ui-icon');\n",
       "        icon_img.addClass(image);\n",
       "        icon_img.addClass('ui-corner-all');\n",
       "\n",
       "        var tooltip_span = $('<span/>');\n",
       "        tooltip_span.addClass('ui-button-text');\n",
       "        tooltip_span.html(tooltip);\n",
       "\n",
       "        button.append(icon_img);\n",
       "        button.append(tooltip_span);\n",
       "\n",
       "        nav_element.append(button);\n",
       "    }\n",
       "\n",
       "    var fmt_picker_span = $('<span/>');\n",
       "\n",
       "    var fmt_picker = $('<select/>');\n",
       "    fmt_picker.addClass('mpl-toolbar-option ui-widget ui-widget-content');\n",
       "    fmt_picker_span.append(fmt_picker);\n",
       "    nav_element.append(fmt_picker_span);\n",
       "    this.format_dropdown = fmt_picker[0];\n",
       "\n",
       "    for (var ind in mpl.extensions) {\n",
       "        var fmt = mpl.extensions[ind];\n",
       "        var option = $(\n",
       "            '<option/>', {selected: fmt === mpl.default_extension}).html(fmt);\n",
       "        fmt_picker.append(option)\n",
       "    }\n",
       "\n",
       "    // Add hover states to the ui-buttons\n",
       "    $( \".ui-button\" ).hover(\n",
       "        function() { $(this).addClass(\"ui-state-hover\");},\n",
       "        function() { $(this).removeClass(\"ui-state-hover\");}\n",
       "    );\n",
       "\n",
       "    var status_bar = $('<span class=\"mpl-message\"/>');\n",
       "    nav_element.append(status_bar);\n",
       "    this.message = status_bar[0];\n",
       "}\n",
       "\n",
       "mpl.figure.prototype.request_resize = function(x_pixels, y_pixels) {\n",
       "    // Request matplotlib to resize the figure. Matplotlib will then trigger a resize in the client,\n",
       "    // which will in turn request a refresh of the image.\n",
       "    this.send_message('resize', {'width': x_pixels, 'height': y_pixels});\n",
       "}\n",
       "\n",
       "mpl.figure.prototype.send_message = function(type, properties) {\n",
       "    properties['type'] = type;\n",
       "    properties['figure_id'] = this.id;\n",
       "    this.ws.send(JSON.stringify(properties));\n",
       "}\n",
       "\n",
       "mpl.figure.prototype.send_draw_message = function() {\n",
       "    if (!this.waiting) {\n",
       "        this.waiting = true;\n",
       "        this.ws.send(JSON.stringify({type: \"draw\", figure_id: this.id}));\n",
       "    }\n",
       "}\n",
       "\n",
       "\n",
       "mpl.figure.prototype.handle_save = function(fig, msg) {\n",
       "    var format_dropdown = fig.format_dropdown;\n",
       "    var format = format_dropdown.options[format_dropdown.selectedIndex].value;\n",
       "    fig.ondownload(fig, format);\n",
       "}\n",
       "\n",
       "\n",
       "mpl.figure.prototype.handle_resize = function(fig, msg) {\n",
       "    var size = msg['size'];\n",
       "    if (size[0] != fig.canvas.width || size[1] != fig.canvas.height) {\n",
       "        fig._resize_canvas(size[0], size[1]);\n",
       "        fig.send_message(\"refresh\", {});\n",
       "    };\n",
       "}\n",
       "\n",
       "mpl.figure.prototype.handle_rubberband = function(fig, msg) {\n",
       "    var x0 = msg['x0'];\n",
       "    var y0 = fig.canvas.height - msg['y0'];\n",
       "    var x1 = msg['x1'];\n",
       "    var y1 = fig.canvas.height - msg['y1'];\n",
       "    x0 = Math.floor(x0) + 0.5;\n",
       "    y0 = Math.floor(y0) + 0.5;\n",
       "    x1 = Math.floor(x1) + 0.5;\n",
       "    y1 = Math.floor(y1) + 0.5;\n",
       "    var min_x = Math.min(x0, x1);\n",
       "    var min_y = Math.min(y0, y1);\n",
       "    var width = Math.abs(x1 - x0);\n",
       "    var height = Math.abs(y1 - y0);\n",
       "\n",
       "    fig.rubberband_context.clearRect(\n",
       "        0, 0, fig.canvas.width, fig.canvas.height);\n",
       "\n",
       "    fig.rubberband_context.strokeRect(min_x, min_y, width, height);\n",
       "}\n",
       "\n",
       "mpl.figure.prototype.handle_figure_label = function(fig, msg) {\n",
       "    // Updates the figure title.\n",
       "    fig.header.textContent = msg['label'];\n",
       "}\n",
       "\n",
       "mpl.figure.prototype.handle_cursor = function(fig, msg) {\n",
       "    var cursor = msg['cursor'];\n",
       "    switch(cursor)\n",
       "    {\n",
       "    case 0:\n",
       "        cursor = 'pointer';\n",
       "        break;\n",
       "    case 1:\n",
       "        cursor = 'default';\n",
       "        break;\n",
       "    case 2:\n",
       "        cursor = 'crosshair';\n",
       "        break;\n",
       "    case 3:\n",
       "        cursor = 'move';\n",
       "        break;\n",
       "    }\n",
       "    fig.rubberband_canvas.style.cursor = cursor;\n",
       "}\n",
       "\n",
       "mpl.figure.prototype.handle_message = function(fig, msg) {\n",
       "    fig.message.textContent = msg['message'];\n",
       "}\n",
       "\n",
       "mpl.figure.prototype.handle_draw = function(fig, msg) {\n",
       "    // Request the server to send over a new figure.\n",
       "    fig.send_draw_message();\n",
       "}\n",
       "\n",
       "mpl.figure.prototype.handle_image_mode = function(fig, msg) {\n",
       "    fig.image_mode = msg['mode'];\n",
       "}\n",
       "\n",
       "mpl.figure.prototype.updated_canvas_event = function() {\n",
       "    // Called whenever the canvas gets updated.\n",
       "    this.send_message(\"ack\", {});\n",
       "}\n",
       "\n",
       "// A function to construct a web socket function for onmessage handling.\n",
       "// Called in the figure constructor.\n",
       "mpl.figure.prototype._make_on_message_function = function(fig) {\n",
       "    return function socket_on_message(evt) {\n",
       "        if (evt.data instanceof Blob) {\n",
       "            /* FIXME: We get \"Resource interpreted as Image but\n",
       "             * transferred with MIME type text/plain:\" errors on\n",
       "             * Chrome.  But how to set the MIME type?  It doesn't seem\n",
       "             * to be part of the websocket stream */\n",
       "            evt.data.type = \"image/png\";\n",
       "\n",
       "            /* Free the memory for the previous frames */\n",
       "            if (fig.imageObj.src) {\n",
       "                (window.URL || window.webkitURL).revokeObjectURL(\n",
       "                    fig.imageObj.src);\n",
       "            }\n",
       "\n",
       "            fig.imageObj.src = (window.URL || window.webkitURL).createObjectURL(\n",
       "                evt.data);\n",
       "            fig.updated_canvas_event();\n",
       "            fig.waiting = false;\n",
       "            return;\n",
       "        }\n",
       "        else if (typeof evt.data === 'string' && evt.data.slice(0, 21) == \"data:image/png;base64\") {\n",
       "            fig.imageObj.src = evt.data;\n",
       "            fig.updated_canvas_event();\n",
       "            fig.waiting = false;\n",
       "            return;\n",
       "        }\n",
       "\n",
       "        var msg = JSON.parse(evt.data);\n",
       "        var msg_type = msg['type'];\n",
       "\n",
       "        // Call the  \"handle_{type}\" callback, which takes\n",
       "        // the figure and JSON message as its only arguments.\n",
       "        try {\n",
       "            var callback = fig[\"handle_\" + msg_type];\n",
       "        } catch (e) {\n",
       "            console.log(\"No handler for the '\" + msg_type + \"' message type: \", msg);\n",
       "            return;\n",
       "        }\n",
       "\n",
       "        if (callback) {\n",
       "            try {\n",
       "                // console.log(\"Handling '\" + msg_type + \"' message: \", msg);\n",
       "                callback(fig, msg);\n",
       "            } catch (e) {\n",
       "                console.log(\"Exception inside the 'handler_\" + msg_type + \"' callback:\", e, e.stack, msg);\n",
       "            }\n",
       "        }\n",
       "    };\n",
       "}\n",
       "\n",
       "// from http://stackoverflow.com/questions/1114465/getting-mouse-location-in-canvas\n",
       "mpl.findpos = function(e) {\n",
       "    //this section is from http://www.quirksmode.org/js/events_properties.html\n",
       "    var targ;\n",
       "    if (!e)\n",
       "        e = window.event;\n",
       "    if (e.target)\n",
       "        targ = e.target;\n",
       "    else if (e.srcElement)\n",
       "        targ = e.srcElement;\n",
       "    if (targ.nodeType == 3) // defeat Safari bug\n",
       "        targ = targ.parentNode;\n",
       "\n",
       "    // jQuery normalizes the pageX and pageY\n",
       "    // pageX,Y are the mouse positions relative to the document\n",
       "    // offset() returns the position of the element relative to the document\n",
       "    var x = e.pageX - $(targ).offset().left;\n",
       "    var y = e.pageY - $(targ).offset().top;\n",
       "\n",
       "    return {\"x\": x, \"y\": y};\n",
       "};\n",
       "\n",
       "/*\n",
       " * return a copy of an object with only non-object keys\n",
       " * we need this to avoid circular references\n",
       " * http://stackoverflow.com/a/24161582/3208463\n",
       " */\n",
       "function simpleKeys (original) {\n",
       "  return Object.keys(original).reduce(function (obj, key) {\n",
       "    if (typeof original[key] !== 'object')\n",
       "        obj[key] = original[key]\n",
       "    return obj;\n",
       "  }, {});\n",
       "}\n",
       "\n",
       "mpl.figure.prototype.mouse_event = function(event, name) {\n",
       "    var canvas_pos = mpl.findpos(event)\n",
       "\n",
       "    if (name === 'button_press')\n",
       "    {\n",
       "        this.canvas.focus();\n",
       "        this.canvas_div.focus();\n",
       "    }\n",
       "\n",
       "    var x = canvas_pos.x;\n",
       "    var y = canvas_pos.y;\n",
       "\n",
       "    this.send_message(name, {x: x, y: y, button: event.button,\n",
       "                             step: event.step,\n",
       "                             guiEvent: simpleKeys(event)});\n",
       "\n",
       "    /* This prevents the web browser from automatically changing to\n",
       "     * the text insertion cursor when the button is pressed.  We want\n",
       "     * to control all of the cursor setting manually through the\n",
       "     * 'cursor' event from matplotlib */\n",
       "    event.preventDefault();\n",
       "    return false;\n",
       "}\n",
       "\n",
       "mpl.figure.prototype._key_event_extra = function(event, name) {\n",
       "    // Handle any extra behaviour associated with a key event\n",
       "}\n",
       "\n",
       "mpl.figure.prototype.key_event = function(event, name) {\n",
       "\n",
       "    // Prevent repeat events\n",
       "    if (name == 'key_press')\n",
       "    {\n",
       "        if (event.which === this._key)\n",
       "            return;\n",
       "        else\n",
       "            this._key = event.which;\n",
       "    }\n",
       "    if (name == 'key_release')\n",
       "        this._key = null;\n",
       "\n",
       "    var value = '';\n",
       "    if (event.ctrlKey && event.which != 17)\n",
       "        value += \"ctrl+\";\n",
       "    if (event.altKey && event.which != 18)\n",
       "        value += \"alt+\";\n",
       "    if (event.shiftKey && event.which != 16)\n",
       "        value += \"shift+\";\n",
       "\n",
       "    value += 'k';\n",
       "    value += event.which.toString();\n",
       "\n",
       "    this._key_event_extra(event, name);\n",
       "\n",
       "    this.send_message(name, {key: value,\n",
       "                             guiEvent: simpleKeys(event)});\n",
       "    return false;\n",
       "}\n",
       "\n",
       "mpl.figure.prototype.toolbar_button_onclick = function(name) {\n",
       "    if (name == 'download') {\n",
       "        this.handle_save(this, null);\n",
       "    } else {\n",
       "        this.send_message(\"toolbar_button\", {name: name});\n",
       "    }\n",
       "};\n",
       "\n",
       "mpl.figure.prototype.toolbar_button_onmouseover = function(tooltip) {\n",
       "    this.message.textContent = tooltip;\n",
       "};\n",
       "mpl.toolbar_items = [[\"Home\", \"Reset original view\", \"fa fa-home icon-home\", \"home\"], [\"Back\", \"Back to  previous view\", \"fa fa-arrow-left icon-arrow-left\", \"back\"], [\"Forward\", \"Forward to next view\", \"fa fa-arrow-right icon-arrow-right\", \"forward\"], [\"\", \"\", \"\", \"\"], [\"Pan\", \"Pan axes with left mouse, zoom with right\", \"fa fa-arrows icon-move\", \"pan\"], [\"Zoom\", \"Zoom to rectangle\", \"fa fa-square-o icon-check-empty\", \"zoom\"], [\"\", \"\", \"\", \"\"], [\"Download\", \"Download plot\", \"fa fa-floppy-o icon-save\", \"download\"]];\n",
       "\n",
       "mpl.extensions = [\"eps\", \"jpeg\", \"pdf\", \"png\", \"ps\", \"raw\", \"svg\", \"tif\"];\n",
       "\n",
       "mpl.default_extension = \"png\";var comm_websocket_adapter = function(comm) {\n",
       "    // Create a \"websocket\"-like object which calls the given IPython comm\n",
       "    // object with the appropriate methods. Currently this is a non binary\n",
       "    // socket, so there is still some room for performance tuning.\n",
       "    var ws = {};\n",
       "\n",
       "    ws.close = function() {\n",
       "        comm.close()\n",
       "    };\n",
       "    ws.send = function(m) {\n",
       "        //console.log('sending', m);\n",
       "        comm.send(m);\n",
       "    };\n",
       "    // Register the callback with on_msg.\n",
       "    comm.on_msg(function(msg) {\n",
       "        //console.log('receiving', msg['content']['data'], msg);\n",
       "        // Pass the mpl event to the overriden (by mpl) onmessage function.\n",
       "        ws.onmessage(msg['content']['data'])\n",
       "    });\n",
       "    return ws;\n",
       "}\n",
       "\n",
       "mpl.mpl_figure_comm = function(comm, msg) {\n",
       "    // This is the function which gets called when the mpl process\n",
       "    // starts-up an IPython Comm through the \"matplotlib\" channel.\n",
       "\n",
       "    var id = msg.content.data.id;\n",
       "    // Get hold of the div created by the display call when the Comm\n",
       "    // socket was opened in Python.\n",
       "    var element = $(\"#\" + id);\n",
       "    var ws_proxy = comm_websocket_adapter(comm)\n",
       "\n",
       "    function ondownload(figure, format) {\n",
       "        window.open(figure.imageObj.src);\n",
       "    }\n",
       "\n",
       "    var fig = new mpl.figure(id, ws_proxy,\n",
       "                           ondownload,\n",
       "                           element.get(0));\n",
       "\n",
       "    // Call onopen now - mpl needs it, as it is assuming we've passed it a real\n",
       "    // web socket which is closed, not our websocket->open comm proxy.\n",
       "    ws_proxy.onopen();\n",
       "\n",
       "    fig.parent_element = element.get(0);\n",
       "    fig.cell_info = mpl.find_output_cell(\"<div id='\" + id + \"'></div>\");\n",
       "    if (!fig.cell_info) {\n",
       "        console.error(\"Failed to find cell for figure\", id, fig);\n",
       "        return;\n",
       "    }\n",
       "\n",
       "    var output_index = fig.cell_info[2]\n",
       "    var cell = fig.cell_info[0];\n",
       "\n",
       "};\n",
       "\n",
       "mpl.figure.prototype.handle_close = function(fig, msg) {\n",
       "    fig.root.unbind('remove')\n",
       "\n",
       "    // Update the output cell to use the data from the current canvas.\n",
       "    fig.push_to_output();\n",
       "    var dataURL = fig.canvas.toDataURL();\n",
       "    // Re-enable the keyboard manager in IPython - without this line, in FF,\n",
       "    // the notebook keyboard shortcuts fail.\n",
       "    IPython.keyboard_manager.enable()\n",
       "    $(fig.parent_element).html('<img src=\"' + dataURL + '\">');\n",
       "    fig.close_ws(fig, msg);\n",
       "}\n",
       "\n",
       "mpl.figure.prototype.close_ws = function(fig, msg){\n",
       "    fig.send_message('closing', msg);\n",
       "    // fig.ws.close()\n",
       "}\n",
       "\n",
       "mpl.figure.prototype.push_to_output = function(remove_interactive) {\n",
       "    // Turn the data on the canvas into data in the output cell.\n",
       "    var dataURL = this.canvas.toDataURL();\n",
       "    this.cell_info[1]['text/html'] = '<img src=\"' + dataURL + '\">';\n",
       "}\n",
       "\n",
       "mpl.figure.prototype.updated_canvas_event = function() {\n",
       "    // Tell IPython that the notebook contents must change.\n",
       "    IPython.notebook.set_dirty(true);\n",
       "    this.send_message(\"ack\", {});\n",
       "    var fig = this;\n",
       "    // Wait a second, then push the new image to the DOM so\n",
       "    // that it is saved nicely (might be nice to debounce this).\n",
       "    setTimeout(function () { fig.push_to_output() }, 1000);\n",
       "}\n",
       "\n",
       "mpl.figure.prototype._init_toolbar = function() {\n",
       "    var fig = this;\n",
       "\n",
       "    var nav_element = $('<div/>')\n",
       "    nav_element.attr('style', 'width: 100%');\n",
       "    this.root.append(nav_element);\n",
       "\n",
       "    // Define a callback function for later on.\n",
       "    function toolbar_event(event) {\n",
       "        return fig.toolbar_button_onclick(event['data']);\n",
       "    }\n",
       "    function toolbar_mouse_event(event) {\n",
       "        return fig.toolbar_button_onmouseover(event['data']);\n",
       "    }\n",
       "\n",
       "    for(var toolbar_ind in mpl.toolbar_items){\n",
       "        var name = mpl.toolbar_items[toolbar_ind][0];\n",
       "        var tooltip = mpl.toolbar_items[toolbar_ind][1];\n",
       "        var image = mpl.toolbar_items[toolbar_ind][2];\n",
       "        var method_name = mpl.toolbar_items[toolbar_ind][3];\n",
       "\n",
       "        if (!name) { continue; };\n",
       "\n",
       "        var button = $('<button class=\"btn btn-default\" href=\"#\" title=\"' + name + '\"><i class=\"fa ' + image + ' fa-lg\"></i></button>');\n",
       "        button.click(method_name, toolbar_event);\n",
       "        button.mouseover(tooltip, toolbar_mouse_event);\n",
       "        nav_element.append(button);\n",
       "    }\n",
       "\n",
       "    // Add the status bar.\n",
       "    var status_bar = $('<span class=\"mpl-message\" style=\"text-align:right; float: right;\"/>');\n",
       "    nav_element.append(status_bar);\n",
       "    this.message = status_bar[0];\n",
       "\n",
       "    // Add the close button to the window.\n",
       "    var buttongrp = $('<div class=\"btn-group inline pull-right\"></div>');\n",
       "    var button = $('<button class=\"btn btn-mini btn-primary\" href=\"#\" title=\"Stop Interaction\"><i class=\"fa fa-power-off icon-remove icon-large\"></i></button>');\n",
       "    button.click(function (evt) { fig.handle_close(fig, {}); } );\n",
       "    button.mouseover('Stop Interaction', toolbar_mouse_event);\n",
       "    buttongrp.append(button);\n",
       "    var titlebar = this.root.find($('.ui-dialog-titlebar'));\n",
       "    titlebar.prepend(buttongrp);\n",
       "}\n",
       "\n",
       "mpl.figure.prototype._root_extra_style = function(el){\n",
       "    var fig = this\n",
       "    el.on(\"remove\", function(){\n",
       "\tfig.close_ws(fig, {});\n",
       "    });\n",
       "}\n",
       "\n",
       "mpl.figure.prototype._canvas_extra_style = function(el){\n",
       "    // this is important to make the div 'focusable\n",
       "    el.attr('tabindex', 0)\n",
       "    // reach out to IPython and tell the keyboard manager to turn it's self\n",
       "    // off when our div gets focus\n",
       "\n",
       "    // location in version 3\n",
       "    if (IPython.notebook.keyboard_manager) {\n",
       "        IPython.notebook.keyboard_manager.register_events(el);\n",
       "    }\n",
       "    else {\n",
       "        // location in version 2\n",
       "        IPython.keyboard_manager.register_events(el);\n",
       "    }\n",
       "\n",
       "}\n",
       "\n",
       "mpl.figure.prototype._key_event_extra = function(event, name) {\n",
       "    var manager = IPython.notebook.keyboard_manager;\n",
       "    if (!manager)\n",
       "        manager = IPython.keyboard_manager;\n",
       "\n",
       "    // Check for shift+enter\n",
       "    if (event.shiftKey && event.which == 13) {\n",
       "        this.canvas_div.blur();\n",
       "        event.shiftKey = false;\n",
       "        // Send a \"J\" for go to next cell\n",
       "        event.which = 74;\n",
       "        event.keyCode = 74;\n",
       "        manager.command_mode();\n",
       "        manager.handle_keydown(event);\n",
       "    }\n",
       "}\n",
       "\n",
       "mpl.figure.prototype.handle_save = function(fig, msg) {\n",
       "    fig.ondownload(fig, null);\n",
       "}\n",
       "\n",
       "\n",
       "mpl.find_output_cell = function(html_output) {\n",
       "    // Return the cell and output element which can be found *uniquely* in the notebook.\n",
       "    // Note - this is a bit hacky, but it is done because the \"notebook_saving.Notebook\"\n",
       "    // IPython event is triggered only after the cells have been serialised, which for\n",
       "    // our purposes (turning an active figure into a static one), is too late.\n",
       "    var cells = IPython.notebook.get_cells();\n",
       "    var ncells = cells.length;\n",
       "    for (var i=0; i<ncells; i++) {\n",
       "        var cell = cells[i];\n",
       "        if (cell.cell_type === 'code'){\n",
       "            for (var j=0; j<cell.output_area.outputs.length; j++) {\n",
       "                var data = cell.output_area.outputs[j];\n",
       "                if (data.data) {\n",
       "                    // IPython >= 3 moved mimebundle to data attribute of output\n",
       "                    data = data.data;\n",
       "                }\n",
       "                if (data['text/html'] == html_output) {\n",
       "                    return [cell, data, j];\n",
       "                }\n",
       "            }\n",
       "        }\n",
       "    }\n",
       "}\n",
       "\n",
       "// Register the function which deals with the matplotlib target/channel.\n",
       "// The kernel may be null if the page has been refreshed.\n",
       "if (IPython.notebook.kernel != null) {\n",
       "    IPython.notebook.kernel.comm_manager.register_target('matplotlib', mpl.mpl_figure_comm);\n",
       "}\n"
      ],
      "text/plain": [
       "<IPython.core.display.Javascript object>"
      ]
     },
     "metadata": {},
     "output_type": "display_data"
    },
    {
     "data": {
      "text/html": [
       "<img src=\"data:image/png;base64,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\">"
      ],
      "text/plain": [
       "<IPython.core.display.HTML object>"
      ]
     },
     "metadata": {},
     "output_type": "display_data"
    }
   ],
   "source": [
    "# Setup figure and axes\n",
    "# Generally plots is ~1.33x width to height (10,7.5 or 12,9)\n",
    "fig_vars = plt.figure()\n",
    "ax1 = plt.subplot(211)\n",
    "ax1b = ax1.twinx()\n",
    "\n",
    "ax2 = plt.subplot(212)\n",
    "ax2b = ax2.twinx()\n",
    "\n",
    "# Set labels and tick sizes\n",
    "ax1.set_xlabel(r'Load Point Displacement')\n",
    "ax1.set_ylabel(r'Friction')\n",
    "ax1b.set_ylabel(r'Slider Velocity')\n",
    "\n",
    "# Plotting\n",
    "line_lp_mu, = ax1.plot([], [], color=tableau20[0], linewidth=2)\n",
    "line_lp_vs, = ax1b.plot([], [], color=tableau20[2], linewidth=1, linestyle='--')\n",
    "\n",
    "ax1.grid()\n",
    "\n",
    "# Set labels and tick sizes\n",
    "ax2.set_xlabel(r'Time')\n",
    "ax2.set_ylabel(r'Friction')\n",
    "ax2b.set_ylabel(r'Slider Velocity')\n",
    "\n",
    "# Plotting\n",
    "line_time_mu, = ax2.plot([], [], color=tableau20[0], linewidth=2)\n",
    "line_time_vs, = ax2b.plot([], [], color=tableau20[2], linewidth=1, linestyle='--')\n",
    "\n",
    "ax2.grid()\n",
    "\n",
    "plt.subplots_adjust(wspace=0.4, hspace=0.4)"
   ]
  },
  {
   "cell_type": "code",
   "execution_count": 96,
   "metadata": {
    "collapsed": false,
    "extensions": {
     "jupyter_dashboards": {
      "version": 1,
      "views": {
       "grid_default": {
        "hidden": true
       },
       "report_default": {
        "hidden": false
       }
      }
     }
    },
    "urth": {
     "dashboard": {
      "hidden": true,
      "layout": {}
     }
    }
   },
   "outputs": [],
   "source": [
    "# Run the defaults to have some output showing when we load\n",
    "on_calculate_clicked(calculate_button)"
   ]
  },
  {
   "cell_type": "code",
   "execution_count": null,
   "metadata": {
    "collapsed": true,
    "extensions": {
     "jupyter_dashboards": {
      "version": 1,
      "views": {
       "grid_default": {
        "hidden": true
       },
       "report_default": {
        "hidden": false
       }
      }
     }
    },
    "urth": {
     "dashboard": {
      "hidden": true,
      "layout": {}
     }
    }
   },
   "outputs": [],
   "source": []
  }
 ],
 "metadata": {
  "extensions": {
   "jupyter_dashboards": {
    "activeView": "grid_default",
    "version": 1,
    "views": {
     "grid_default": {
      "cellMargin": 10,
      "defaultCellHeight": 20,
      "maxColumns": 12,
      "name": "grid",
      "type": "grid"
     },
     "report_default": {
      "name": "report",
      "type": "report"
     }
    }
   }
  },
  "kernelspec": {
   "display_name": "Python 2",
   "language": "python",
   "name": "python2"
  },
  "language_info": {
   "codemirror_mode": {
    "name": "ipython",
    "version": 2
   },
   "file_extension": ".py",
   "mimetype": "text/x-python",
   "name": "python",
   "nbconvert_exporter": "python",
   "pygments_lexer": "ipython2",
   "version": "2.7.11"
  },
  "urth": {
   "dashboard": {
    "cellMargin": 10,
    "defaultCellHeight": 20,
    "layout": "grid",
    "maxColumns": 12
   }
  }
 },
 "nbformat": 4,
 "nbformat_minor": 0
}
